{
 "cells": [
  {
   "cell_type": "markdown",
   "metadata": {},
   "source": [
    "#### Uppgift 1: (10p)"
   ]
  },
  {
   "cell_type": "markdown",
   "metadata": {},
   "source": [
    "#### a: Kommer följande program att terminera? (terminera = avsluta)"
   ]
  },
  {
   "cell_type": "code",
   "execution_count": null,
   "metadata": {
    "collapsed": true
   },
   "outputs": [],
   "source": [
    "alfa=10\n",
    "bravo=True\n",
    "while (alfa<0 or bravo):\n",
    "    if bravo:\n",
    "        alfa = alfa + 1\n",
    "        bravo=False"
   ]
  },
  {
   "cell_type": "markdown",
   "metadata": {},
   "source": [
    "Svar: Ja, eftersom alfa endast kan öka är det alltid ger `alfa < 0` alltid `False`. While loopen startar pga. `bravo = True` därefter ändras `bravo` till `False` och loopen avslutar."
   ]
  },
  {
   "cell_type": "markdown",
   "metadata": {},
   "source": [
    "#### b: Vilken utskrift ger följande program?"
   ]
  },
  {
   "cell_type": "code",
   "execution_count": 3,
   "metadata": {
    "collapsed": false
   },
   "outputs": [
    {
     "name": "stdout",
     "output_type": "stream",
     "text": [
      "foxtrot\n"
     ]
    }
   ],
   "source": [
    "charlie=5\n",
    "delta=3\n",
    "echo=True\n",
    "if delta+charlie == 9:\n",
    "    print charlie-delta\n",
    "elif charlie - 2 > delta and not echo:\n",
    "    print not echo\n",
    "elif echo and charlie / delta > 1:\n",
    "    print delta/charlie\n",
    "else:\n",
    "    print \"foxtrot\""
   ]
  },
  {
   "cell_type": "markdown",
   "metadata": {},
   "source": [
    "Svar: \"foxtrot\", eftersom `8 != 9`, `3 !> 3`, `5/3 = 1` och är då inte *större* än 1. Else exikverar."
   ]
  },
  {
   "cell_type": "markdown",
   "metadata": {},
   "source": [
    "#### c: Vilken utskrivning ger följande program?"
   ]
  },
  {
   "cell_type": "code",
   "execution_count": 4,
   "metadata": {
    "collapsed": false
   },
   "outputs": [
    {
     "name": "stdout",
     "output_type": "stream",
     "text": [
      "banan\n"
     ]
    }
   ],
   "source": [
    "s=\"nan\"\n",
    "while len(s)<5:\n",
    "    s=\"ba\" + s\n",
    "    print s,"
   ]
  },
  {
   "cell_type": "markdown",
   "metadata": {},
   "source": [
    "Svar: \"banan\" eftersom `len(\"ba\" + \"nan\") = 5` och `5 < 5 = False`. "
   ]
  },
  {
   "cell_type": "markdown",
   "metadata": {},
   "source": [
    "#### d: Vad händer när följande kod exekveras?"
   ]
  },
  {
   "cell_type": "code",
   "execution_count": 6,
   "metadata": {
    "collapsed": false
   },
   "outputs": [
    {
     "name": "stdout",
     "output_type": "stream",
     "text": [
      "51\n"
     ]
    }
   ],
   "source": [
    "golf = range(3)[-2] + 30 + int(\"2\"+str(0))"
   ]
  },
  {
   "cell_type": "markdown",
   "metadata": {},
   "source": [
    "Svar: `golf` får värdet av 51."
   ]
  },
  {
   "cell_type": "markdown",
   "metadata": {},
   "source": [
    "#### e: Vad händer när följande kod exekveras?"
   ]
  },
  {
   "cell_type": "code",
   "execution_count": 7,
   "metadata": {
    "collapsed": false
   },
   "outputs": [
    {
     "name": "stdout",
     "output_type": "stream",
     "text": [
      "jul\n"
     ]
    }
   ],
   "source": [
    "hotel = (chr(int(\"32\")) + \"jul\")[1] + chr(ord('t')+1) + \"l\""
   ]
  },
  {
   "cell_type": "markdown",
   "metadata": {},
   "source": [
    "Svar: hotel får värdet `\"jul\"`"
   ]
  },
  {
   "cell_type": "markdown",
   "metadata": {},
   "source": [
    "#### Uppgift 2: (5p)"
   ]
  },
  {
   "cell_type": "markdown",
   "metadata": {},
   "source": [
    "Någon har skrivit en funktion, `isSorted(a, b, c)`, som är tänkt att returnera talen `True` om talen `a,b` och `c` är sorterade i stigande eller fallande ordning. Programmeraren kom fram till följande:"
   ]
  },
  {
   "cell_type": "code",
   "execution_count": null,
   "metadata": {
    "collapsed": true
   },
   "outputs": [],
   "source": [
    "def isSorted(a,b,c):\n",
    "    if a<b:\n",
    "        return b<c\n",
    "    return False"
   ]
  },
  {
   "cell_type": "markdown",
   "metadata": {},
   "source": [
    "Programmeraren har dock gjort lite fel. Uppgiften är att identifiera och rätta felet genom att skriva en rättad version av programmet som fungerar i samtliga fall."
   ]
  },
  {
   "cell_type": "markdown",
   "metadata": {},
   "source": [
    "#### Lösning"
   ]
  },
  {
   "cell_type": "code",
   "execution_count": null,
   "metadata": {
    "collapsed": true
   },
   "outputs": [],
   "source": [
    "def isSorted(a, b, c):\n",
    "    if a < b and b < c:\n",
    "        return True\n",
    "    if c < b and b < a:\n",
    "        return True\n",
    "    else:\n",
    "        return False"
   ]
  },
  {
   "cell_type": "markdown",
   "metadata": {},
   "source": [
    "#### Uppgift 3: (5p)"
   ]
  },
  {
   "cell_type": "markdown",
   "metadata": {},
   "source": [
    "Vad blir utskriften av följande program?"
   ]
  },
  {
   "cell_type": "code",
   "execution_count": 8,
   "metadata": {
    "collapsed": false
   },
   "outputs": [
    {
     "name": "stdout",
     "output_type": "stream",
     "text": [
      "[5]\n"
     ]
    }
   ],
   "source": [
    "def india(juliet, kilo):   \n",
    "    juliet[:] = juliet[1:3] + [kilo]   \n",
    "    kilo = juliet[1] + 1  \n",
    "    \n",
    "def tilt(l):   \n",
    "    return l[2:]\n",
    "\n",
    "list=[9,8,7,6] \n",
    "elem=5 \n",
    "list2=list \n",
    "india(list2, elem) \n",
    "list=tilt(list2) \n",
    "print list "
   ]
  },
  {
   "cell_type": "markdown",
   "metadata": {},
   "source": [
    "Svar: [5] eftersom india gör om `list2` till `[8,7,5]` och sedan sätts list till `list2[2:]` vilket genererar endast sista elementet `[5]`. "
   ]
  },
  {
   "cell_type": "markdown",
   "metadata": {},
   "source": [
    "#### Uppgift 4: (5p)"
   ]
  },
  {
   "cell_type": "markdown",
   "metadata": {},
   "source": [
    "Skriv en funktion, `replaceSegment`, som tar tre strängar, `str`, `replace` och `new`. Funtionen ska returnera en ny sträng där alla förekomster av `replace` i den ursprungliga strängen, `str`, ersatts med strängen `new`. Du kan anta att strängen `replace` endast innehåller ett tecken. Inga inbyggda funktioner eller moduler får användas förutom funktionen len()."
   ]
  },
  {
   "cell_type": "code",
   "execution_count": null,
   "metadata": {
    "collapsed": true
   },
   "outputs": [],
   "source": [
    ">>> replaceSegment(\"Jag får x på tentan\", \"x\", \"godkänt\")\n",
    "'Jag får godkänt på tentan'"
   ]
  },
  {
   "cell_type": "markdown",
   "metadata": {},
   "source": [
    "#### Lösning"
   ]
  },
  {
   "cell_type": "code",
   "execution_count": 9,
   "metadata": {
    "collapsed": true
   },
   "outputs": [],
   "source": [
    "def replaceSegment(str, replace, new):\n",
    "    newstr = ''\n",
    "    for char in str:\n",
    "        if char == replace:\n",
    "            newstr += new\n",
    "        else:\n",
    "            newtr += char"
   ]
  },
  {
   "cell_type": "markdown",
   "metadata": {},
   "source": [
    "#### Uppgift 5: (5p)"
   ]
  },
  {
   "cell_type": "code",
   "execution_count": null,
   "metadata": {
    "collapsed": true
   },
   "outputs": [],
   "source": [
    "n=0\n",
    "while (len(s)>0): \n",
    "    if (n==len(s)):\n",
    "        print \"Jämnt antal tecken i strängen.\"\n",
    "    n = n+1\n",
    "    s = s[1:]"
   ]
  },
  {
   "cell_type": "markdown",
   "metadata": {},
   "source": [
    "Betrakta koden ovan. Identifiera lämpliga parametrar och kapsla in koden som en egen funktion. Modifiera koden så att funktionen returnerar `True` om strängen `s` innehåller ett jämnt antal tecken och `False` i annat fall. (tips: Utskriften i funktionen ljuger inte.)"
   ]
  },
  {
   "cell_type": "code",
   "execution_count": 10,
   "metadata": {
    "collapsed": true
   },
   "outputs": [],
   "source": [
    "def even(s):\n",
    "    n = 0\n",
    "    while len(s) > 0:\n",
    "        if n == len(s):\n",
    "            return True\n",
    "        n += 1\n",
    "        s = s[1:]\n",
    "    return False"
   ]
  },
  {
   "cell_type": "markdown",
   "metadata": {},
   "source": [
    "#### Uppgift 6: (5p)"
   ]
  },
  {
   "cell_type": "markdown",
   "metadata": {},
   "source": [
    "Vi vill implementera en klass `bat` (för ”båt”). En båt kan göra tre saker: köras, ligga i hamn, eller ha sjunkit. En båt som har sjunkit kan dras upp, men kan aldrig mer köras eftersom motorn går sönder när båten sjunker; däremot kan den sjunka igen eller ligga i hamn.\n",
    "\n",
    "Implementera en klass, `bat`, med metoderna `kor` (kör), `sjunk` och `draUpp` enligt ovan. Metoden `kor` ska ta en boolsk parameter som specificerar om båten kör eller inte. Implementera även en metod `tillstand` (tillstånd) som returnerar båtens tillstånd som en sträng med värdena `\"kör\"`, `\"hamn\"` eller `\"sjunkit\"`."
   ]
  },
  {
   "cell_type": "markdown",
   "metadata": {},
   "source": [
    "#### Lösning"
   ]
  },
  {
   "cell_type": "code",
   "execution_count": 11,
   "metadata": {
    "collapsed": true
   },
   "outputs": [],
   "source": [
    "#Osäker på denna, så någon får gärna rätta mig om det är fel\n",
    "\n",
    "class bat:\n",
    "    def __init__(self):\n",
    "        pass\n",
    "    \n",
    "    def kor(self, p):\n",
    "        self.kor = p\n",
    "    \n",
    "    def sjunk(self):\n",
    "        self.sjunk = True\n",
    "    \n",
    "    def draUpp(self):\n",
    "        self.sjunk = False\n",
    "        self.kor = False\n",
    "    \n",
    "    def tillstand(self):\n",
    "        if self.kor:\n",
    "            return \"kör\"\n",
    "        elif self.sjunk:\n",
    "            return \"sjunkit\"\n",
    "        else:\n",
    "            return \"hamn\""
   ]
  },
  {
   "cell_type": "markdown",
   "metadata": {},
   "source": [
    "#### Uppgift 7: (5p)"
   ]
  },
  {
   "cell_type": "markdown",
   "metadata": {},
   "source": [
    "Skriv **en** *rekursiv* funktion, `almostPrime(i, f)` som returnerar en lista med tal som talet `i` är jämnt delbara med. Listan ska innehålla alla tal från och med `f` till och `i`, som `i` är jämt delbara med."
   ]
  },
  {
   "cell_type": "code",
   "execution_count": null,
   "metadata": {
    "collapsed": true
   },
   "outputs": [],
   "source": [
    "#Körexempel\n",
    "\n",
    ">>> almostPrimeFact(111,2)\n",
    "[3, 37, 111]\n",
    "\n",
    ">>> almostPrimeFact(38,2)\n",
    "[2, 19, 38]\n",
    "\n",
    ">>> almostPrimeFact(38,3)\n",
    "[19, 38]"
   ]
  },
  {
   "cell_type": "markdown",
   "metadata": {},
   "source": [
    "#### Lösning"
   ]
  },
  {
   "cell_type": "code",
   "execution_count": 13,
   "metadata": {
    "collapsed": true
   },
   "outputs": [],
   "source": [
    "def almostPrime(i, f):\n",
    "    if i > f:\n",
    "        for tal in range(f,i+1):\n",
    "            if i % tal == 0:\n",
    "                return [tal] + almostPrime(i, tal+1)\n",
    "    return []"
   ]
  },
  {
   "cell_type": "markdown",
   "metadata": {},
   "source": [
    "#### Extrauppgift (ger 2 extrapoäng):\n",
    "Modifiera programmet så att listan innehåller alla primfaktorer (primfaktor=primtal som ett tal är delbart med; primtal=tal enbart delbart med sig själv och 1) till `i` när paramtern f=2. (Om man multiplicerar alla tal i en sådan lista så får man alltså tillbaka `i`)"
   ]
  },
  {
   "cell_type": "code",
   "execution_count": null,
   "metadata": {
    "collapsed": true
   },
   "outputs": [],
   "source": [
    ">>> primeFact(111,2)\n",
    "[3, 37]\n",
    "\n",
    ">>> primeFact(38,2)\n",
    "[2, 19]\n",
    "\n",
    ">>> primeFact(123456,2)\n",
    "[2, 2, 2, 2, 2, 2, 3, 643]\n"
   ]
  },
  {
   "cell_type": "markdown",
   "metadata": {},
   "source": [
    "#### Lösning"
   ]
  },
  {
   "cell_type": "code",
   "execution_count": null,
   "metadata": {
    "collapsed": true
   },
   "outputs": [],
   "source": [
    "#Tyckte själv att denna var rätt svår så ta en stund och pilla runt\n",
    "#lägg till lite printsatser så att du förstår vad den gör\n",
    "\n",
    "def primeFact(i, f):\n",
    "    if i > f:\n",
    "        if i % f == 0:\n",
    "            factors = [f] + primeFact(i/f, 2)\n",
    "            return factors\n",
    "        else:\n",
    "            return primeFact(i, f+1)\n",
    "    else:\n",
    "        return [f]"
   ]
  }
 ],
 "metadata": {
  "kernelspec": {
   "display_name": "Python 2",
   "language": "python",
   "name": "python2"
  },
  "language_info": {
   "codemirror_mode": {
    "name": "ipython",
    "version": 2
   },
   "file_extension": ".py",
   "mimetype": "text/x-python",
   "name": "python",
   "nbconvert_exporter": "python",
   "pygments_lexer": "ipython2",
   "version": "2.7.10"
  }
 },
 "nbformat": 4,
 "nbformat_minor": 0
}
