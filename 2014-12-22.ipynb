{
 "cells": [
  {
   "cell_type": "markdown",
   "metadata": {},
   "source": [
    "#### Uppgift 1: (8p)\n",
    "**a:** Kommer följande program att terminera? Endast ja/nej svar krävs."
   ]
  },
  {
   "cell_type": "code",
   "execution_count": null,
   "metadata": {
    "collapsed": false
   },
   "outputs": [],
   "source": [
    "r = range(2, 7)\n",
    "for i in r:\n",
    "    i = 0"
   ]
  },
  {
   "cell_type": "markdown",
   "metadata": {},
   "source": [
    "##### Svar:\n",
    "Ja. Förklaring med hjälp av print:"
   ]
  },
  {
   "cell_type": "code",
   "execution_count": null,
   "metadata": {
    "collapsed": false
   },
   "outputs": [],
   "source": [
    "r = range(2, 7) # Från och med 2, upp till men inte inkl. 7\n",
    "print r\n",
    "\n",
    "for i in r: # for itererar alltså bara över listan oavsett\n",
    "            # innehållet i for loopen\n",
    "    print i,\n",
    "    i = 0\n",
    "    print i,"
   ]
  },
  {
   "cell_type": "markdown",
   "metadata": {},
   "source": [
    "**b:** Vilken utskrift ger följande program:"
   ]
  },
  {
   "cell_type": "code",
   "execution_count": null,
   "metadata": {
    "collapsed": false
   },
   "outputs": [],
   "source": [
    "s = 'program'\n",
    "t = 'basfall'\n",
    "k = 3\n",
    "\n",
    "if (s < t or len(t) == len(s)):\n",
    "    print 'bambu'\n",
    "elif (len(t) > 0):\n",
    "    print 'gran'\n",
    "else:\n",
    "    print 'tall'"
   ]
  },
  {
   "cell_type": "markdown",
   "metadata": {},
   "source": [
    "##### Svar:\n",
    "'bambu'\n",
    "\n",
    "**Förklarnig**:\n",
    "Kom ihåg skillnaden mellan if, elif och else.\n",
    "if utförs alltid om villkoret är sant.\n",
    "elif utförs bara om föregående if- och elif-villkor är falska.\n",
    "else utförs bara om alla ovanstående satser är false."
   ]
  },
  {
   "cell_type": "code",
   "execution_count": null,
   "metadata": {
    "collapsed": false
   },
   "outputs": [],
   "source": [
    "s = 'program'\n",
    "t = 'basfall'\n",
    "k = 3\n",
    "\n",
    "if (s < t or len(t) == len(s)):\n",
    "    print 'bambu'\n",
    "elif (len(t) > 0): # utförs bara om if-villkoret inte är True\n",
    "    print 'gran'\n",
    "else: # utförs endast om if- och elif-villkoren inte är True\n",
    "    print 'tall'"
   ]
  },
  {
   "cell_type": "markdown",
   "metadata": {},
   "source": [
    "**c:** Vilken utskrift ger följande progam?"
   ]
  },
  {
   "cell_type": "code",
   "execution_count": 1,
   "metadata": {
    "collapsed": false
   },
   "outputs": [
    {
     "name": "stdout",
     "output_type": "stream",
     "text": [
      "33\n"
     ]
    }
   ],
   "source": [
    "s = '0123'\n",
    "newS = ''\n",
    "\n",
    "while len(s) > len(newS):\n",
    "    newS = s[-1] + newS\n",
    "    s = s[1:]\n",
    "print newS"
   ]
  },
  {
   "cell_type": "markdown",
   "metadata": {},
   "source": [
    "**d.** Vad händer när följande kod exekveras?\n",
    "Om det blir fel, varför blir det fel? Om det blir rätt, vilket värde får `s`?"
   ]
  },
  {
   "cell_type": "code",
   "execution_count": null,
   "metadata": {
    "collapsed": false
   },
   "outputs": [],
   "source": [
    "s = '3'\n",
    "s = str(int('2' + s) + 7)\n",
    "print s"
   ]
  },
  {
   "cell_type": "markdown",
   "metadata": {},
   "source": [
    "##### Förklaring:\n",
    "Lite lurigt här, `s = 30` ist för `12` eftersom `+ ` operatorn i det här fallet utför sträng-operationen concatenation istället för addition med heltal."
   ]
  },
  {
   "cell_type": "markdown",
   "metadata": {},
   "source": [
    "#### Uppgift 2: (5p)\n",
    "Någon har skrivit en funktion `isFib(l)`, som är tänkt att returnera `True` om listan `l` är en fibonaccisekvens (en fibonaccisekvens är en sekens som börjar med 1, 1 och där alla tal utom de två första är summan av de två föregående) och `False` om så inte är fallet.\n",
    "\n",
    "Programmeraren kom fram till följande:"
   ]
  },
  {
   "cell_type": "code",
   "execution_count": null,
   "metadata": {
    "collapsed": false
   },
   "outputs": [],
   "source": [
    "def isFib(l):\n",
    "    if len(l) <= 2:\n",
    "        return False # sequence too short\n",
    "    i = 2\n",
    "    while (i <= len(l)):\n",
    "        if l[i] != l[i-1] + l[i-2]:\n",
    "            return False\n",
    "        i =+ 1\n",
    "    return True\n",
    "\n",
    "print isFib([1, 1, 2, 3, 5])\n",
    "\n",
    "print isFib([1, 1])"
   ]
  },
  {
   "cell_type": "markdown",
   "metadata": {},
   "source": [
    "Egen korrigerad lösning, ej komplett enligt spec men orkade inte skriva om:"
   ]
  },
  {
   "cell_type": "code",
   "execution_count": 4,
   "metadata": {
    "collapsed": false
   },
   "outputs": [
    {
     "name": "stdout",
     "output_type": "stream",
     "text": [
      "True\n",
      "False\n",
      "False\n"
     ]
    }
   ],
   "source": [
    "def isFib(l):\n",
    "    if len(l) <= 2 :\n",
    "        isFib = False\n",
    "    i = 2\n",
    "    while i < len(l):\n",
    "        if l[i] == l[i-1] + l[i-2]:\n",
    "            isFib = True\n",
    "        else:\n",
    "            isFib = False\n",
    "        i += 1\n",
    "    return isFib\n",
    "\n",
    "\n",
    "print isFib([1, 1, 2, 3, 5, 8, 13, 21]) # Korrekt fib seq, True\n",
    "print isFib([1, 1, 2, 3, 5, 8, 13, 22]) # 22 är fel, ska ge False\n",
    "print isFib([1, 1]) # False"
   ]
  },
  {
   "cell_type": "markdown",
   "metadata": {},
   "source": [
    "#### Uppgift 3: (5p)\n",
    "\n",
    "Betrakta följande program:"
   ]
  },
  {
   "cell_type": "code",
   "execution_count": 9,
   "metadata": {
    "collapsed": false
   },
   "outputs": [],
   "source": [
    "def sublist(lst, start, stop):\n",
    "    if start == 0 and stop == len(lst):\n",
    "        return lst\n",
    "    else:\n",
    "        return lst[start:stop]\n",
    "    \n",
    "orginal = [1, 3, 2, 7]\n",
    "newList = sublist(orginal, 1, 4)\n",
    "newList[0] = 10\n",
    "thirdList = sublist(newList, 0, len(newList))\n",
    "newList[0] = 11"
   ]
  },
  {
   "cell_type": "markdown",
   "metadata": {},
   "source": [
    "#### Uppgift 4: (5p)\n",
    "Skriv en funktion `delete(s)` som tar en sträng `s` som parameter, ersätter varannan förekomst av tecknet \"t\" i strängen med \"T\", med början på den andra förekomsten, samt returnerar den nya strängen."
   ]
  },
  {
   "cell_type": "code",
   "execution_count": null,
   "metadata": {
    "collapsed": false
   },
   "outputs": [],
   "source": [
    "def delete(s):\n",
    "    '''\n",
    "    >>> delete(\"iterationstentamen\")\n",
    "    iteraTionstenTamen\n",
    "    >>> delete(\"stor\")\n",
    "    stor\n",
    "    '''\n",
    "    count = 0\n",
    "    newstring = ''\n",
    "    for char in s:\n",
    "        if char == 't':\n",
    "            count += 1\n",
    "            if count % 2 == 0:\n",
    "                newstring += 'T'\n",
    "            else:\n",
    "                newstring += char\n",
    "        else:\n",
    "            newstring += char\n",
    "    return newstring\n",
    "delete('iterationstentamen')\n",
    "delete('stor')\n",
    "\n",
    "    \n",
    "    \n",
    "    "
   ]
  },
  {
   "cell_type": "markdown",
   "metadata": {},
   "source": [
    "#### Uppgift 5: (5p)\n",
    "Betrakta följande kodsnutt för linjärinterpolering i en funktion:"
   ]
  },
  {
   "cell_type": "code",
   "execution_count": null,
   "metadata": {
    "collapsed": true
   },
   "outputs": [],
   "source": [
    "def linInt(x1, y1, x2, y2):\n",
    "    \"\"\"\n",
    "    >>> linIntUI()\n",
    "    x1: 6\n",
    "    y1: 10\n",
    "    x2: 2\n",
    "    y2: 10\n",
    "    x1 >= x2\n",
    "    \"\"\"\n",
    "    \n",
    "    try:\n",
    "        assert x1 < x2\n",
    "    except ValueError:\n",
    "        return \n",
    "    return ( (x1 + x2) / 2, (y1 + y2) / 2)\n",
    "\n",
    "def linIntUI():\n",
    "    r = linInt(input(\"x1: \"), \\\n",
    "               input(\"y1: \"), \\\n",
    "               input(\"x2: \"), \\\n",
    "               input(\"y2: \"))\n",
    "    print 'xi: ', r[0], 'yi: ', r[1]"
   ]
  },
  {
   "cell_type": "markdown",
   "metadata": {},
   "source": [
    "Vi vill att `linInt` endast ska accptera värden där `x2 > x1` (strikt olikhet). Om detta inte gäller ska `linInt` kasta ett undantag av typen ValueError. \n",
    "Modifiera `linInt` så att detta sker. Modifiera också `linIntUI` så att undantaget tas om hand och texten `x1 >= x2` skrivs ut om undantaget kastas från `linInt`."
   ]
  },
  {
   "cell_type": "code",
   "execution_count": null,
   "metadata": {
    "collapsed": false
   },
   "outputs": [],
   "source": [
    "def linInt(x1, y1, x2, y2):\n",
    "    try:\n",
    "        assert x1 > x2\n",
    "        return ( (x1 + x2) / 2, (y1 + y2) / 2)\n",
    "    except AssertionError:\n",
    "        return ValueError\n",
    "    \n",
    "def linIntUI():\n",
    "    r = linInt(input(\"x1: \"), \\\n",
    "               input(\"y1: \"), \\\n",
    "               input(\"x2: \"), \\\n",
    "               input(\"y2: \"))\n",
    "    if r == ValueError:\n",
    "        print 'x1 >= x2'\n",
    "    else:\n",
    "        print 'xi: ', r[0], 'yi: ', r[1]\n",
    "    \n",
    "linIntUI()"
   ]
  },
  {
   "cell_type": "markdown",
   "metadata": {},
   "source": [
    "#### Uppgift 6: (5p)\n",
    "\n",
    "Vi vill göra en klass MinMax som är tänkt att användas för att hålla koll på minsta och största värdet från en strömmande sekvens av värden. Klassen ska deklarera en metod minValue som retuernar det hittills minsta värdet och en metod maxValue som ska returnera det hittills största värdet. En metod newValue deklarareas som ska registera ett nytt ärde i sekvensen. Klassen ska också deklarera en initierare som ska ta ett startvärde som argument.\n"
   ]
  },
  {
   "cell_type": "code",
   "execution_count": null,
   "metadata": {
    "collapsed": true
   },
   "outputs": [],
   "source": [
    "class MinMax(object):\n",
    "    def __init__(self, startvalue):\n",
    "        self.values = [startvalue]\n",
    "        \n",
    "    def minValue(self):\n",
    "        \"\"\"\n",
    "        returns the minimum value of the sequence\n",
    "        \"\"\"\n",
    "        min = self.values[0]\n",
    "        for value in self.values:\n",
    "            if value < min:\n",
    "                min = value\n",
    "        return min\n",
    "\n",
    "    def maxValue(self):\n",
    "        \"\"\"\n",
    "        returns the maximum value of the sequence\n",
    "        \"\"\"\n",
    "        max = self.values[0]\n",
    "        for value in self.values:\n",
    "            if value > max:\n",
    "                max = value\n",
    "        return max\n",
    "\n",
    "    def newValue(self, value):\n",
    "        self.values.append(value)\n",
    "        \n",
    "sekvens = MinMax(0)\n",
    "sekvens.newValue(1)\n",
    "sekvens.newValue(4)\n",
    "sekvens.newValue(10)\n",
    "\n",
    "print sekvens.values"
   ]
  },
  {
   "cell_type": "code",
   "execution_count": null,
   "metadata": {
    "collapsed": true
   },
   "outputs": [],
   "source": []
  },
  {
   "cell_type": "markdown",
   "metadata": {},
   "source": [
    "#### Uppgift 7: (5p)\n",
    "Skriv en rekursiv funktion, `subtract`, som tar ett tal, `v`, samt en lista av heltal, `l`, som argument och subtraherar alla tal i listan från v samt returnerar svaret."
   ]
  },
  {
   "cell_type": "code",
   "execution_count": 18,
   "metadata": {
    "collapsed": false,
    "scrolled": true
   },
   "outputs": [
    {
     "name": "stdout",
     "output_type": "stream",
     "text": [
      "4\n",
      "94\n",
      "75\n"
     ]
    }
   ],
   "source": [
    "def subtract(v, seq):\n",
    "    \"\"\"\n",
    "    >>> subtract(10, [1, 2, 3])\n",
    "    4\n",
    "    \"\"\"\n",
    "    if len(seq) == 0:\n",
    "        return v\n",
    "    v = v - seq[0]\n",
    "    seq.pop(0)\n",
    "    return subtract(v, seq)\n",
    "\n",
    "print subtract(10, [1, 2, 3])\n",
    "print subtract(100, [1, 2, 3])\n",
    "print subtract(100, [20, 1, 4])"
   ]
  },
  {
   "cell_type": "code",
   "execution_count": null,
   "metadata": {
    "collapsed": true
   },
   "outputs": [],
   "source": []
  }
 ],
 "metadata": {
  "kernelspec": {
   "display_name": "Python 2",
   "language": "python",
   "name": "python2"
  },
  "language_info": {
   "codemirror_mode": {
    "name": "ipython",
    "version": 2
   },
   "file_extension": ".py",
   "mimetype": "text/x-python",
   "name": "python",
   "nbconvert_exporter": "python",
   "pygments_lexer": "ipython2",
   "version": "2.7.10"
  }
 },
 "nbformat": 4,
 "nbformat_minor": 0
}
