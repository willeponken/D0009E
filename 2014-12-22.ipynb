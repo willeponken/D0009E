{
 "cells": [
  {
   "cell_type": "markdown",
   "metadata": {},
   "source": [
    "#### Uppgift 1: (8p)\n",
    "**a:** Kommer följande program att terminera? Endast ja/nej svar krävs."
   ]
  },
  {
   "cell_type": "code",
   "execution_count": null,
   "metadata": {
    "collapsed": false
   },
   "outputs": [],
   "source": [
    "r = range(2, 7)\n",
    "for i in r:\n",
    "    i = 0"
   ]
  },
  {
   "cell_type": "markdown",
   "metadata": {},
   "source": [
    "##### Svar:\n",
    "Ja. Förklaring med hjälp av print:"
   ]
  },
  {
   "cell_type": "code",
   "execution_count": null,
   "metadata": {
    "collapsed": false
   },
   "outputs": [],
   "source": [
    "r = range(2, 7) # Från och med 2, upp till men inte inkl. 7\n",
    "print r\n",
    "\n",
    "for i in r: # for itererar alltså bara över listan oavsett\n",
    "            # innehållet i for loopen\n",
    "    print i,\n",
    "    i = 0\n",
    "    print i,"
   ]
  },
  {
   "cell_type": "markdown",
   "metadata": {},
   "source": [
    "**b:** Vilken utskrift ger följande program:"
   ]
  },
  {
   "cell_type": "code",
   "execution_count": null,
   "metadata": {
    "collapsed": false
   },
   "outputs": [],
   "source": [
    "s = 'program'\n",
    "t = 'basfall'\n",
    "k = 3\n",
    "\n",
    "if (s < t or len(t) == len(s)):\n",
    "    print 'bambu'\n",
    "elif (len(t) > 0):\n",
    "    print 'gran'\n",
    "else:\n",
    "    print 'tall'"
   ]
  },
  {
   "cell_type": "markdown",
   "metadata": {},
   "source": [
    "##### Svar:\n",
    "'bambu'\n",
    "**Förklarnig**:\n",
    "Kom ihåg skillnaden mellan if, elif och else.\n",
    "if utförs alltid om villkoret är sant.\n",
    "elif utförs bara om föregående if- och elif-villkor är falska.\n",
    "else utförs bara om alla ovanstående satser är false."
   ]
  },
  {
   "cell_type": "code",
   "execution_count": null,
   "metadata": {
    "collapsed": false
   },
   "outputs": [],
   "source": [
    "s = 'program'\n",
    "t = 'basfall'\n",
    "k = 3\n",
    "\n",
    "if (s < t or len(t) == len(s)):\n",
    "    print 'bambu'\n",
    "elif (len(t) > 0): # utförs bara om if-villkoret inte är True\n",
    "    print 'gran'\n",
    "else: # utförs endast om if- och elif-villkoren inte är True\n",
    "    print 'tall'"
   ]
  },
  {
   "cell_type": "markdown",
   "metadata": {},
   "source": [
    "**c:** Vilken utskrift ger följande progam?"
   ]
  },
  {
   "cell_type": "code",
   "execution_count": null,
   "metadata": {
    "collapsed": false
   },
   "outputs": [],
   "source": [
    "s = '0123'\n",
    "newS = ''\n",
    "\n",
    "while len(s) > len(newS):\n",
    "    newS = s[-1] + newS\n",
    "    s = s[1:]\n",
    "print newS"
   ]
  },
  {
   "cell_type": "markdown",
   "metadata": {},
   "source": [
    "**d.** Vad händer när följande kod exekveras?\n",
    "Om det blir fel, varför blir det fel? Om det blir rätt, vilket värde får `s`?"
   ]
  },
  {
   "cell_type": "code",
   "execution_count": null,
   "metadata": {
    "collapsed": false
   },
   "outputs": [],
   "source": [
    "s = '3'\n",
    "s = str(int('2' + s) + 7)\n",
    "print s"
   ]
  },
  {
   "cell_type": "markdown",
   "metadata": {},
   "source": [
    "##### Förklaring:\n",
    "Lite lurigt här, `s = 30` ist för `12` eftersom `+ ` operatorn i det här fallet utför sträng-operationen concatenation istället för addition med heltal."
   ]
  },
  {
   "cell_type": "markdown",
   "metadata": {},
   "source": [
    "#### Uppgift 2: (5p)\n",
    "Någon har skrivit en funktion `isFib(l)`, som är tänkt att returnera `True` om listan `l` är en fibonaccisekvens (en fibonaccisekvens är en sekens som börjar med 1, 1 och där alla tal utom de två första är summan av de två föregående) och `False` om så inte är fallet.\n",
    "\n",
    "Programmeraren kom fram till följande:"
   ]
  },
  {
   "cell_type": "code",
   "execution_count": 38,
   "metadata": {
    "collapsed": false
   },
   "outputs": [
    {
     "name": "stdout",
     "output_type": "stream",
     "text": [
      "False\n",
      "False\n"
     ]
    }
   ],
   "source": [
    "def isFib(l):\n",
    "    if len(l) <= 2:\n",
    "        return False # sequence too short\n",
    "    i = 2\n",
    "    while (i <= len(l)):\n",
    "        if l[i] != l[i-1] + l[i-2]:\n",
    "            return False\n",
    "        i =+ 1\n",
    "    return True\n",
    "\n",
    "print isFib([1, 1, 2, 3, 5])\n",
    "\n",
    "print isFib([1, 1])"
   ]
  },
  {
   "cell_type": "markdown",
   "metadata": {},
   "source": [
    "Egen korrigerad lösning, ej komplett enligt spec men orkade inte skriva om:"
   ]
  },
  {
   "cell_type": "code",
   "execution_count": 45,
   "metadata": {
    "collapsed": false
   },
   "outputs": [
    {
     "name": "stdout",
     "output_type": "stream",
     "text": [
      "True\n",
      "False\n",
      "False\n"
     ]
    }
   ],
   "source": [
    "def isFib(l):\n",
    "    if len(l) <= 2 :\n",
    "        isFib = False\n",
    "    i = 2\n",
    "    while i < len(l):\n",
    "        if l[i] == l[i-1] + l[i-2]:\n",
    "            isFib = True\n",
    "        else:\n",
    "            isFib = False\n",
    "        i += 1\n",
    "    return isFib\n",
    "\n",
    "\n",
    "print isFib([1, 1, 2, 3, 5, 8, 13, 21]) # Korrekt fib seq, True\n",
    "print isFib([1, 1, 2, 3, 5, 8, 13, 22]) # 22 är fel, ska ge False\n",
    "print isFib([1, 1]) # False"
   ]
  },
  {
   "cell_type": "markdown",
   "metadata": {},
   "source": [
    "#### Uppgift 4: (5p)\n",
    "Skriv en funktion `delete(s)` som tar en sträng `s` som parameter, ersätter varannan förekomst av tecknet \"t\" i strängen med \"T\", med början på den andra förekomsten, samt returnerar den nya strängen."
   ]
  },
  {
   "cell_type": "code",
   "execution_count": 46,
   "metadata": {
    "collapsed": false
   },
   "outputs": [
    {
     "name": "stdout",
     "output_type": "stream",
     "text": [
      "iteraTionstenTamen\n",
      "stor\n"
     ]
    }
   ],
   "source": [
    "def delete(s):\n",
    "    '''\n",
    "    >>> delete(\"iterationstentamen\")\n",
    "    iteraTionstenTamen\n",
    "    >>> delete(\"stor\")\n",
    "    stor\n",
    "    '''\n",
    "    count = 0\n",
    "    newstring = ''\n",
    "    for char in s:\n",
    "        if char == 't':\n",
    "            count += 1\n",
    "            if count % 2 == 0:\n",
    "                newstring += 'T'\n",
    "            else:\n",
    "                newstring += char\n",
    "        else:\n",
    "            newstring += char\n",
    "    print newstring\n",
    "delete('iterationstentamen')\n",
    "delete('stor')\n",
    "\n",
    "    \n",
    "    \n",
    "    "
   ]
  },
  {
   "cell_type": "markdown",
   "metadata": {},
   "source": [
    "#### Uppgift 5: (5p)\n",
    "Betrakta följande kodsnutt för linjärinterpolering i en funktion:"
   ]
  },
  {
   "cell_type": "code",
   "execution_count": null,
   "metadata": {
    "collapsed": true
   },
   "outputs": [],
   "source": [
    "def linInt(x1, y1, x2, y2):\n",
    "    \"\"\"\n",
    "    >>> linIntUI()\n",
    "    x1: 6\n",
    "    y1: 10\n",
    "    x2: 2\n",
    "    y2: 10\n",
    "    \"\"\"\n",
    "    return ( (x1 + x2) / 2, (y1 + y2) / 2)\n",
    "\n",
    "def linIntUI():\n",
    "    r = linInt(input(\"x1: \"), \\\n",
    "               input(\"y1: \"), \\\n",
    "               input(\"x2: \"), \\\n",
    "               input(\"y2: \"))\n",
    "    print 'xi: ', r[0], 'yi: ', r[1]"
   ]
  },
  {
   "cell_type": "markdown",
   "metadata": {},
   "source": [
    "Vi vill att `linInt` endast ska accptera värden där `x2 > x1` (strikt olikhet). Om detta inte gäller ska `linInt` kasta ett undantag av typen ValueError. \n",
    "Modifiera `linInt` så att detta sker. Modifiera också `linIntUI` så att undantaget tas om hand och texten `x1 >= x2` skrivs ut om undantaget kastas från `linInt`."
   ]
  },
  {
   "cell_type": "code",
   "execution_count": null,
   "metadata": {
    "collapsed": true
   },
   "outputs": [],
   "source": [
    "def linInt(x1, y1, x2, y2):\n",
    "    \n",
    "    return ( (x1 + x2) / 2, (y1 + y2) / 2)\n",
    "\n",
    "def linIntUI():\n",
    "    r = linInt(input(\"x1: \"), \\\n",
    "               input(\"y1: \"), \\\n",
    "               input(\"x2: \"), \\\n",
    "               input(\"y2: \"))\n",
    "    print 'xi: ', r[0], 'yi: ', r[1]"
   ]
  }
 ],
 "metadata": {
  "kernelspec": {
   "display_name": "Python 2",
   "language": "python",
   "name": "python2"
  },
  "language_info": {
   "codemirror_mode": {
    "name": "ipython",
    "version": 2
   },
   "file_extension": ".py",
   "mimetype": "text/x-python",
   "name": "python",
   "nbconvert_exporter": "python",
   "pygments_lexer": "ipython2",
   "version": "2.7.10"
  }
 },
 "nbformat": 4,
 "nbformat_minor": 0
}
