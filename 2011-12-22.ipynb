{
 "cells": [
  {
   "cell_type": "markdown",
   "metadata": {},
   "source": [
    "#### Uppgift 1: (10p)"
   ]
  },
  {
   "cell_type": "markdown",
   "metadata": {},
   "source": [
    "#### a: Kommer följande program att terminera? (terminera = avsluta)"
   ]
  },
  {
   "cell_type": "code",
   "execution_count": 73,
   "metadata": {
    "collapsed": false
   },
   "outputs": [
    {
     "name": "stdout",
     "output_type": "stream",
     "text": [
      "ett varv till\n",
      "ett varv till\n",
      "ett varv till\n",
      "ett varv till\n",
      "ett varv till\n",
      "ett varv till\n",
      "ett varv till\n",
      "ett varv till\n",
      "ett varv till\n",
      "ett varv till\n",
      "ett varv till\n",
      "ett varv till\n",
      "ett varv till\n",
      "ett varv till\n",
      "ett varv till\n",
      "ett varv till\n"
     ]
    }
   ],
   "source": [
    "s=\"A\"\n",
    "e=\"Q\" \n",
    "while s<e:\n",
    "    s=chr(ord(s)+1)\n",
    "    if s>e:\n",
    "        e=chr(ord(e)+1)\n",
    "    print \"ett varv till\" "
   ]
  },
  {
   "cell_type": "markdown",
   "metadata": {},
   "source": [
    "Svar: Ja, `s` ökar tills `s = Q` och då `Q > Q = False`  ökar ej `e`, vilket gör att loopen sedan stannar då `Q < Q = False`."
   ]
  },
  {
   "cell_type": "markdown",
   "metadata": {},
   "source": [
    "#### b: Vilken utskrift ger följande program?"
   ]
  },
  {
   "cell_type": "code",
   "execution_count": 6,
   "metadata": {
    "collapsed": false
   },
   "outputs": [
    {
     "name": "stdout",
     "output_type": "stream",
     "text": [
      "kvicksand\n"
     ]
    }
   ],
   "source": [
    "a=5\n",
    "b=3\n",
    "c=True\n",
    "if c and a - b < 0:\n",
    "    print \"ojja\"\n",
    "elif a * b > 10 == c:\n",
    "    print \"baloo\"\n",
    "else:\n",
    "    print \"kvicksand\""
   ]
  },
  {
   "cell_type": "markdown",
   "metadata": {},
   "source": [
    "Svar: `\"Kvicksand\"` eftersom det första statementet inte är sant och det andra statementet inte saknar parentes runt `(a * b > 10)`."
   ]
  },
  {
   "cell_type": "markdown",
   "metadata": {},
   "source": [
    "#### c: Vilken utskrift ger följande program?"
   ]
  },
  {
   "cell_type": "code",
   "execution_count": 12,
   "metadata": {
    "collapsed": false
   },
   "outputs": [
    {
     "name": "stdout",
     "output_type": "stream",
     "text": [
      "28\n"
     ]
    }
   ],
   "source": [
    "s=range(1,30)\n",
    "while len(s)>27:\n",
    "    s=s[1:-1]\n",
    "    print s[-1],"
   ]
  },
  {
   "cell_type": "markdown",
   "metadata": {},
   "source": [
    "Svar: 28\n",
    "\n",
    "Eftersom `range(1,30)` skapar en lista `[1,2,3...28,29]` är längden 29 och därmed exekverar while-loopen. Där omdefinieras s till att börja från index `1` till *_men inte inkluderande_* index `-1` vilket är samma som sista indexet i listan. Därmed är listan `[2,3,4...27,28]`. `s[-1]` printar sista elementet i listan; 28."
   ]
  },
  {
   "cell_type": "markdown",
   "metadata": {},
   "source": [
    "#### d: Vad händer när följande kod exekveras?"
   ]
  },
  {
   "cell_type": "code",
   "execution_count": 20,
   "metadata": {
    "collapsed": false
   },
   "outputs": [
    {
     "ename": "TypeError",
     "evalue": "cannot concatenate 'str' and 'int' objects",
     "output_type": "error",
     "traceback": [
      "\u001b[1;31m---------------------------------------------------------------------------\u001b[0m",
      "\u001b[1;31mTypeError\u001b[0m                                 Traceback (most recent call last)",
      "\u001b[1;32m<ipython-input-20-5743c826b3fe>\u001b[0m in \u001b[0;36m<module>\u001b[1;34m()\u001b[0m\n\u001b[1;32m----> 1\u001b[1;33m \u001b[0mvalue\u001b[0m \u001b[1;33m=\u001b[0m \u001b[0mrange\u001b[0m\u001b[1;33m(\u001b[0m\u001b[1;36m2\u001b[0m\u001b[1;33m,\u001b[0m\u001b[1;36m8\u001b[0m\u001b[1;33m,\u001b[0m\u001b[1;36m2\u001b[0m\u001b[1;33m)\u001b[0m\u001b[1;33m[\u001b[0m\u001b[1;33m-\u001b[0m\u001b[1;36m2\u001b[0m\u001b[1;33m]\u001b[0m \u001b[1;33m+\u001b[0m \u001b[1;36m3\u001b[0m \u001b[1;33m+\u001b[0m \u001b[0mint\u001b[0m\u001b[1;33m(\u001b[0m\u001b[1;34m\"2\"\u001b[0m \u001b[1;33m+\u001b[0m \u001b[1;36m0\u001b[0m\u001b[1;33m)\u001b[0m\u001b[1;33m\u001b[0m\u001b[0m\n\u001b[0m\u001b[0;32m      2\u001b[0m \u001b[1;32mprint\u001b[0m \u001b[0mvalue\u001b[0m\u001b[1;33m\u001b[0m\u001b[0m\n",
      "\u001b[1;31mTypeError\u001b[0m: cannot concatenate 'str' and 'int' objects"
     ]
    }
   ],
   "source": [
    "value = range(2,8,2)[-2] + 3 + int(\"2\" + 0)"
   ]
  },
  {
   "cell_type": "markdown",
   "metadata": {},
   "source": [
    "Svar: Efter som `(\"2\" + 0)` inte går att konkatenera så kommer det bli Error."
   ]
  },
  {
   "cell_type": "markdown",
   "metadata": {},
   "source": [
    "#### Uppgift 2: (5p)"
   ]
  },
  {
   "cell_type": "markdown",
   "metadata": {},
   "source": [
    "Någon har skrivit en funktion `nXor(a,b,c)` som är tänkt att returnera `False` endast om exakt ett av argumenten är sanna. I annat fall skall `True` returneras. Programmeraren kom fram till följande lösningbeskrivning"
   ]
  },
  {
   "cell_type": "code",
   "execution_count": 76,
   "metadata": {
    "collapsed": false
   },
   "outputs": [],
   "source": [
    "def nXor(a,b,c):\n",
    "    if not (b or c):\n",
    "        return not a \n",
    "    elif not (a or c):\n",
    "        return not b\n",
    "    elif c:\n",
    "        return False\n",
    "    return True"
   ]
  },
  {
   "cell_type": "markdown",
   "metadata": {},
   "source": [
    "#### a: I vilket/vilka fall gör programmet fel?"
   ]
  },
  {
   "cell_type": "markdown",
   "metadata": {},
   "source": [
    "Svar: Alla förutom då `a` och `b` är `True` och `c = False` samt då `a, b` och `c` är `False`."
   ]
  },
  {
   "cell_type": "markdown",
   "metadata": {},
   "source": [
    "#### b: Skriv en korrigerad version av programmet som utför det korrekt."
   ]
  },
  {
   "cell_type": "code",
   "execution_count": 72,
   "metadata": {
    "collapsed": false
   },
   "outputs": [],
   "source": [
    "def nXor(a,b,c):\n",
    "    sum = 0\n",
    "    if a:\n",
    "        sum += 1\n",
    "    if b:\n",
    "        sum += 1\n",
    "    if c:\n",
    "        sum += 1\n",
    "\n",
    "    if sum == 1:\n",
    "        return False\n",
    "    else:\n",
    "        return True"
   ]
  },
  {
   "cell_type": "markdown",
   "metadata": {
    "collapsed": true
   },
   "source": [
    "#### Uppgift 3: (5p)"
   ]
  },
  {
   "cell_type": "markdown",
   "metadata": {},
   "source": [
    "Vad blir utskriften av följande program? (metoden `index` på listor returnerar index för argumentet i listan (`a.index(b)` ger index för `b` i listan `a`))"
   ]
  },
  {
   "cell_type": "code",
   "execution_count": 81,
   "metadata": {
    "collapsed": false
   },
   "outputs": [
    {
     "name": "stdout",
     "output_type": "stream",
     "text": [
      "[3, 6, 3, 6]\n"
     ]
    }
   ],
   "source": [
    "def filter(g,e):\n",
    "    g[g.index(e):-1]=[]\n",
    "    return g\n",
    "def extract(l,k):\n",
    "    return l+k\n",
    "\n",
    "list=[3,4,5,6]\n",
    "k=filter(list,4)\n",
    "print extract(list,k)"
   ]
  },
  {
   "cell_type": "markdown",
   "metadata": {},
   "source": [
    "Svar: `[3, 6, 3, 6]` eftersom filter kommer ta bort allt mellan `g` till men *inte inkluderande* `[-1]` vilket är sista elementet i listan. Eftersom `g` **är** `list`, ändras list permanent och när de summeras kommer det bli `[3, 6] + [3, 6] = [3, 6, 3, 6].`"
   ]
  },
  {
   "cell_type": "markdown",
   "metadata": {},
   "source": [
    "#### Uppgift 4: (5p)"
   ]
  },
  {
   "cell_type": "markdown",
   "metadata": {},
   "source": [
    "Skriv en funktion `nCount(s,substr,n)` som tar en sträng `s`, en substräng `substr` samt ett heltal `n` som parametrar. Funktionen ska returnera `True` om strängen `substr` förekommer fler än `n` gånger i strängen `s`."
   ]
  },
  {
   "cell_type": "code",
   "execution_count": null,
   "metadata": {
    "collapsed": true
   },
   "outputs": [],
   "source": [
    "#Körexempel\n",
    "\n",
    ">>> nCount(\"Mississippi\", \"si\", 2)\n",
    "True\n",
    "\n",
    ">>> nCount(\"Mississippi\", \"si\", 3)\n",
    "False"
   ]
  },
  {
   "cell_type": "markdown",
   "metadata": {},
   "source": [
    "Inbygda funktioner eller metoder som utför liknande uppgifter får inte användas. Det är dock tillåtet att använda funktionerna `len` och `range`. Iteration kan ske på valfritt sätt med `for` eller `while`. `s` och `substr` kan ha godtycklig längd."
   ]
  },
  {
   "cell_type": "markdown",
   "metadata": {},
   "source": [
    "#### Lösning"
   ]
  },
  {
   "cell_type": "code",
   "execution_count": 3,
   "metadata": {
    "collapsed": false
   },
   "outputs": [],
   "source": [
    "#Med tanke på att körexemplet räknar med >= n \n",
    "#och inte > n som de skriver i beskrivningen\n",
    "#så löser jag den som i körexemplet\n",
    "\n",
    "def nCount(s, substr, n):\n",
    "    count = 0\n",
    "    sum = 0\n",
    "    while count < len(s):\n",
    "        if s[count] == substr[0] and s[count + 1]:\n",
    "            sum += 1\n",
    "            count += 1\n",
    "        count += 1\n",
    "    if sum >= n:\n",
    "        return True\n",
    "    else:\n",
    "        return False"
   ]
  },
  {
   "cell_type": "markdown",
   "metadata": {},
   "source": [
    "#### Uppgift 5: (5p)"
   ]
  },
  {
   "cell_type": "code",
   "execution_count": null,
   "metadata": {
    "collapsed": true
   },
   "outputs": [],
   "source": [
    "c = 97\n",
    "s = \"\"\n",
    "while c < n:\n",
    "    s = s + chr(c)\n",
    "    print s"
   ]
  },
  {
   "cell_type": "markdown",
   "metadata": {},
   "source": [
    "Identifiera lämpliga parametrar och kapsla in koden som en egen funktion vid namn `bokstaver`. Modifiera koden så att funktionen returnerar en sträng innehållande de tecken som nu skrivs ut på skärmen inkl. kontrolltecken (ta alltså med allt så att det som funktionen returnerar vid utskrift blir identiskt med nuvarande utskrift)."
   ]
  },
  {
   "cell_type": "markdown",
   "metadata": {},
   "source": [
    "#### Lösning"
   ]
  },
  {
   "cell_type": "code",
   "execution_count": 2,
   "metadata": {
    "collapsed": true
   },
   "outputs": [],
   "source": [
    "def bokstaver(n):\n",
    "    c = 97\n",
    "    s = \"\"\n",
    "    while c < n:\n",
    "        s = s + chr(c)\n",
    "        print s\n",
    "        c += 1"
   ]
  },
  {
   "cell_type": "markdown",
   "metadata": {},
   "source": [
    "#### Uppgift 6: (5p)"
   ]
  },
  {
   "cell_type": "markdown",
   "metadata": {},
   "source": [
    "Vi vill göra en klass `WinterRoad` som implementerar en halkvarnare. Aktuell utomhustemperatur ska kunna anges vid instansiering av objektet. Vidare ska en metod, `updateTemp`, som tar ett flyttal som argument, implementeras för att uppdatera den aktuella temperaturen samt en metod `getAlarm`, som inte tar några argument och som returnerar 0 om temperaturen är över 5 grader eller under -5 grader. I annat fall, dvs. om temperaturen är `<= -5` och `>= 5` grader så skall 1 returneras.\n",
    "\n",
    "Implementera klassen `WinterRoad` enligt ovan."
   ]
  },
  {
   "cell_type": "markdown",
   "metadata": {},
   "source": [
    "#### Lösning"
   ]
  },
  {
   "cell_type": "code",
   "execution_count": 3,
   "metadata": {
    "collapsed": true
   },
   "outputs": [],
   "source": [
    "class WinterRoad:\n",
    "    def __init__(self, t):\n",
    "        self.t = t\n",
    "        \n",
    "    def updateTemp(self, t):\n",
    "        self.t = t\n",
    "    \n",
    "    def getAlarm(self):\n",
    "        if self.t <= -5 or self.t >= 5:\n",
    "            return 1\n",
    "        else:\n",
    "            return 0"
   ]
  },
  {
   "cell_type": "markdown",
   "metadata": {},
   "source": [
    "#### Uppgift 7: (5p)"
   ]
  },
  {
   "cell_type": "markdown",
   "metadata": {},
   "source": [
    "Skriv **en** *rekursiv* funktion, `multiplar(i,j)`, som returnerar en lista av tal som är heltalsmultiplar av `i`. Listan ska innehålla alla heltalsmultiplar av `i` från och med 1 till och med `j`. (Tips: j är rekursionsvariabel)"
   ]
  },
  {
   "cell_type": "code",
   "execution_count": null,
   "metadata": {
    "collapsed": true
   },
   "outputs": [],
   "source": [
    "#Körexempel\n",
    "\n",
    ">>> multiplar(3,5)\n",
    "[3, 6, 9, 12, 15]\n",
    "\n",
    ">>> multiplar(2,6)\n",
    "[2, 4, 6, 8, 10, 12]\n",
    "\n",
    ">>> multiplar(1,8)\n",
    "[1, 2, 3, 4, 5, 6, 7, 8]"
   ]
  },
  {
   "cell_type": "markdown",
   "metadata": {},
   "source": [
    "#### Lösning"
   ]
  },
  {
   "cell_type": "code",
   "execution_count": 4,
   "metadata": {
    "collapsed": true
   },
   "outputs": [],
   "source": [
    "def multiplar(i, j):\n",
    "    if i <= j:\n",
    "        return multiplar(i, (j-i)) + [j]\n",
    "    else:\n",
    "        return []"
   ]
  }
 ],
 "metadata": {
  "kernelspec": {
   "display_name": "Python 2",
   "language": "python",
   "name": "python2"
  },
  "language_info": {
   "codemirror_mode": {
    "name": "ipython",
    "version": 2
   },
   "file_extension": ".py",
   "mimetype": "text/x-python",
   "name": "python",
   "nbconvert_exporter": "python",
   "pygments_lexer": "ipython2",
   "version": "2.7.10"
  }
 },
 "nbformat": 4,
 "nbformat_minor": 0
}
