{
 "cells": [
  {
   "cell_type": "markdown",
   "metadata": {},
   "source": [
    "#### Uppgift 1: (8p)\n",
    "a: Kommer följande program att terminera?"
   ]
  },
  {
   "cell_type": "code",
   "execution_count": null,
   "metadata": {
    "collapsed": false
   },
   "outputs": [],
   "source": [
    "i = 10\n",
    "for c in range(97, 110):\n",
    "    i = i - 1\n",
    "    print chr(c),\n",
    "    while i < 5:\n",
    "        i = i + 1"
   ]
  },
  {
   "cell_type": "markdown",
   "metadata": {},
   "source": [
    "Svar: Ja, den kommer att terminera eftersom den översta loopen itererar över ett fast antal steg."
   ]
  },
  {
   "cell_type": "markdown",
   "metadata": {},
   "source": [
    "##### b: Vilken utskrift ger följande program:"
   ]
  },
  {
   "cell_type": "code",
   "execution_count": null,
   "metadata": {
    "collapsed": false
   },
   "outputs": [],
   "source": [
    "b = 4\n",
    "c = 5\n",
    "a = False\n",
    "\n",
    "if b/c == 0 and a: \n",
    "    print \"Hej!\"\n",
    "elif a or c - b > 0:\n",
    "    print \"Hopp!\"\n",
    "else:\n",
    "    print \"Slut!\""
   ]
  },
  {
   "cell_type": "markdown",
   "metadata": {},
   "source": [
    "Svar: Den skriver ut \"Hopp!\" eftersom elif-satsen är den första som är sann."
   ]
  },
  {
   "cell_type": "markdown",
   "metadata": {},
   "source": [
    "##### c: Vilken utskrift ger följande program?"
   ]
  },
  {
   "cell_type": "code",
   "execution_count": null,
   "metadata": {
    "collapsed": false
   },
   "outputs": [],
   "source": [
    "s = \"Kardanvinkelmutterskruvs\"\n",
    "s = s + \"genomföringsbussningshylsa\"\n",
    "i = 0\n",
    "j = len(s) - 1\n",
    "\n",
    "while len(s[i:j]) > 7:\n",
    "    j = j - 1\n",
    "    if i < 6:\n",
    "        i = i + 1\n",
    "    \n",
    "s = s[i:j]\n",
    "print s\n",
    "## i = 6\n",
    "## j = 13"
   ]
  },
  {
   "cell_type": "markdown",
   "metadata": {},
   "source": [
    "Svar: s[6:13], från och med 6 till (men inte inkl) 13."
   ]
  },
  {
   "cell_type": "markdown",
   "metadata": {},
   "source": [
    "##### d: Vad händer när följande kod exekveras:"
   ]
  },
  {
   "cell_type": "code",
   "execution_count": null,
   "metadata": {
    "collapsed": false
   },
   "outputs": [],
   "source": [
    "t = float(\"3\" + chr(ord('.')  + 4 / 6) + chr(range(ord('2') , ord('9'))[0]))\n",
    "print t"
   ]
  },
  {
   "cell_type": "markdown",
   "metadata": {},
   "source": [
    "Förklaring:\n",
    "ord() funktionen ingår i standardbiblioteket och, givet en input av len(i) = 1, returnerar ett heltal som representerar positionen i ASCII-tabellen för ett tecken.\n",
    "Ex: ord('a') returnerar 97\n",
    "\n",
    "chr() är motsatt funktion, där skriver man in positionen i ASCII-tabellen och får tecknet som output.\n",
    "Ex: chr(97) returnerar 'a'\n"
   ]
  },
  {
   "cell_type": "markdown",
   "metadata": {},
   "source": [
    "#### Uppgift 2:\n",
    "Någon har skrivit en funktion testDiff(a, b, c) som är tänkt att returnera True om skillnaden mellan a och b är större än c. a, b och c är positiva heltal.\n",
    "Programmeraren kom fram till följande lösning:"
   ]
  },
  {
   "cell_type": "code",
   "execution_count": null,
   "metadata": {
    "collapsed": false
   },
   "outputs": [],
   "source": [
    "def testDiff(a, b, c):\n",
    "    if a - b < c:\n",
    "        return False\n",
    "    elif b - a < c:\n",
    "        return False\n",
    "    return True\n",
    "\n"
   ]
  },
  {
   "cell_type": "markdown",
   "metadata": {},
   "source": [
    "##### a: I vilket/vilka fall gör programmet fel? (Vilka kombinationer av indata ger fel resultat)"
   ]
  },
  {
   "cell_type": "code",
   "execution_count": null,
   "metadata": {
    "collapsed": true
   },
   "outputs": [],
   "source": []
  }
 ],
 "metadata": {
  "kernelspec": {
   "display_name": "Python 2",
   "language": "python",
   "name": "python2"
  },
  "language_info": {
   "codemirror_mode": {
    "name": "ipython",
    "version": 2
   },
   "file_extension": ".py",
   "mimetype": "text/x-python",
   "name": "python",
   "nbconvert_exporter": "python",
   "pygments_lexer": "ipython2",
   "version": "2.7.10"
  }
 },
 "nbformat": 4,
 "nbformat_minor": 0
}
