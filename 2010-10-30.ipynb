{
 "cells": [
  {
   "cell_type": "markdown",
   "metadata": {},
   "source": [
    "#### Uppgift 1: (10p)"
   ]
  },
  {
   "cell_type": "markdown",
   "metadata": {},
   "source": [
    "#### a: Kommer följande program att terminera? (terminera = avsluta)"
   ]
  },
  {
   "cell_type": "code",
   "execution_count": 3,
   "metadata": {
    "collapsed": false
   },
   "outputs": [
    {
     "name": "stdout",
     "output_type": "stream",
     "text": [
      "The loop…\n"
     ]
    }
   ],
   "source": [
    "f=True \n",
    "v=0\n",
    "while (v==0)==f and f:\n",
    "    v=v-1    \n",
    "    print \"The loop…\" "
   ]
  },
  {
   "cell_type": "markdown",
   "metadata": {},
   "source": [
    "Svar: Ja, programmet kommer terminera efter första körningen eftersom `v == 0` kommer generera `False`. "
   ]
  },
  {
   "cell_type": "markdown",
   "metadata": {},
   "source": [
    "#### b: Vilken utskrift ger följande program?"
   ]
  },
  {
   "cell_type": "code",
   "execution_count": 4,
   "metadata": {
    "collapsed": false
   },
   "outputs": [
    {
     "name": "stdout",
     "output_type": "stream",
     "text": [
      "Läge 4\n"
     ]
    }
   ],
   "source": [
    "f=False\n",
    "b=1.0\n",
    "c=8\n",
    "if f:\n",
    "    if (b>=1):\n",
    "        print \"Läge 1\"\n",
    "    else:\n",
    "        print \"Läge 2\"\n",
    "else:\n",
    "    if c>c*b:\n",
    "        print \"Läge 3\"\n",
    "    else:\n",
    "        print \"Läge 4\""
   ]
  },
  {
   "cell_type": "markdown",
   "metadata": {},
   "source": [
    "Svar: Läge 4. Då `c>c*b` ger `False` då 8 inte är *större än* 8.0."
   ]
  },
  {
   "cell_type": "markdown",
   "metadata": {},
   "source": [
    "#### c: Vilken utskrift ger följande program?"
   ]
  },
  {
   "cell_type": "code",
   "execution_count": 5,
   "metadata": {
    "collapsed": false
   },
   "outputs": [
    {
     "name": "stdout",
     "output_type": "stream",
     "text": [
      "d d d\n"
     ]
    }
   ],
   "source": [
    "s=\"abcd\"\n",
    "while len(s)>1:\n",
    "    print s[-1],\n",
    "    s = s[1:]"
   ]
  },
  {
   "cell_type": "markdown",
   "metadata": {},
   "source": [
    "Svar: `\"d d d\"`. Eftersom den printar sista bokstaven och sedan kortar ned `s` med en bokstav från början av `s`. `len(s) = 4` och eftersom det skall vara *större än* 1 kommer det vara sant 4 - 1 gång alltså 3 gånger. Vilket ger `\"d d d\"`."
   ]
  },
  {
   "cell_type": "markdown",
   "metadata": {},
   "source": [
    "#### d: Vad händer när följande kod exekveras?"
   ]
  },
  {
   "cell_type": "code",
   "execution_count": null,
   "metadata": {
    "collapsed": true
   },
   "outputs": [],
   "source": [
    "h=\"T\"+\"enhörning\"[0:2]+chr(1+ord(\"t\")-1)+\"a\""
   ]
  },
  {
   "cell_type": "markdown",
   "metadata": {},
   "source": [
    "Svar: `h` ges värdet `\"Tenta\"`. Eftersom `\"T\" + \"en\" + \"t\" + \"a\" = \"Tenta\".`"
   ]
  },
  {
   "cell_type": "markdown",
   "metadata": {},
   "source": [
    "#### e: Vad händer när följande kod exekveras?"
   ]
  },
  {
   "cell_type": "code",
   "execution_count": null,
   "metadata": {
    "collapsed": true
   },
   "outputs": [],
   "source": [
    "k=\"D\"+str(int(0))+int(0)+\"0\"+chr(ord(\"9\"))+\"E\""
   ]
  },
  {
   "cell_type": "markdown",
   "metadata": {},
   "source": [
    "Svar: Det kommer ge error då strängar och heltalsiffror inte kan konkateneras."
   ]
  },
  {
   "cell_type": "markdown",
   "metadata": {},
   "source": [
    "#### Uppgift 2: (5p)"
   ]
  },
  {
   "cell_type": "markdown",
   "metadata": {},
   "source": [
    "Någon har skrivit en funktion, `compare(x1, y1, x2, y2)`, som är tänkt att ta reda på om punkten `(x1, y1)` är större än `(x2, y2)`, eller tvärt om, eller om punkterna inte går att ordna. Vi säger att en punkt `(x1, y1)` är större än en punkt `(x2, y2)` om `x1>x2` och `y1>y2`. Funktionen ska returnera 1 om `(x1, y1)` är större än `(x2, y2)` och -1 om `(x2, y2)` är större än `(x1, y1)`. Om paren inte går att ordna ska den returnera 0. "
   ]
  },
  {
   "cell_type": "code",
   "execution_count": null,
   "metadata": {
    "collapsed": true
   },
   "outputs": [],
   "source": [
    "def compare(x1, y1, x2, y2):\n",
    "    if (x1>x2):\n",
    "        return 1\n",
    "    if (y2>y1):\n",
    "        return -1\n",
    "    return 0"
   ]
  },
  {
   "cell_type": "code",
   "execution_count": null,
   "metadata": {
    "collapsed": true
   },
   "outputs": [],
   "source": []
  }
 ],
 "metadata": {
  "kernelspec": {
   "display_name": "Python 2",
   "language": "python",
   "name": "python2"
  },
  "language_info": {
   "codemirror_mode": {
    "name": "ipython",
    "version": 2
   },
   "file_extension": ".py",
   "mimetype": "text/x-python",
   "name": "python",
   "nbconvert_exporter": "python",
   "pygments_lexer": "ipython2",
   "version": "2.7.10"
  }
 },
 "nbformat": 4,
 "nbformat_minor": 0
}
