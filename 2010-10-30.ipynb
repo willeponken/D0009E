{
 "cells": [
  {
   "cell_type": "markdown",
   "metadata": {},
   "source": [
    "#### Uppgift 1: (10p)"
   ]
  },
  {
   "cell_type": "markdown",
   "metadata": {},
   "source": [
    "#### a: Kommer följande program att terminera? (terminera = avsluta)"
   ]
  },
  {
   "cell_type": "code",
   "execution_count": 3,
   "metadata": {
    "collapsed": false
   },
   "outputs": [
    {
     "name": "stdout",
     "output_type": "stream",
     "text": [
      "The loop…\n"
     ]
    }
   ],
   "source": [
    "f=True \n",
    "v=0\n",
    "while (v==0)==f and f:\n",
    "    v=v-1    \n",
    "    print \"The loop…\" "
   ]
  },
  {
   "cell_type": "markdown",
   "metadata": {},
   "source": [
    "Svar: Ja, programmet kommer terminera efter första körningen eftersom `v == 0` kommer generera `False`. "
   ]
  },
  {
   "cell_type": "markdown",
   "metadata": {},
   "source": [
    "#### b: Vilken utskrift ger följande program?"
   ]
  },
  {
   "cell_type": "code",
   "execution_count": 4,
   "metadata": {
    "collapsed": false
   },
   "outputs": [
    {
     "name": "stdout",
     "output_type": "stream",
     "text": [
      "Läge 4\n"
     ]
    }
   ],
   "source": [
    "f=False\n",
    "b=1.0\n",
    "c=8\n",
    "if f:\n",
    "    if (b>=1):\n",
    "        print \"Läge 1\"\n",
    "    else:\n",
    "        print \"Läge 2\"\n",
    "else:\n",
    "    if c>c*b:\n",
    "        print \"Läge 3\"\n",
    "    else:\n",
    "        print \"Läge 4\""
   ]
  },
  {
   "cell_type": "markdown",
   "metadata": {},
   "source": [
    "Svar: Läge 4. Då `c>c*b` ger `False` då 8 inte är *större än* 8.0."
   ]
  },
  {
   "cell_type": "markdown",
   "metadata": {},
   "source": [
    "#### c: Vilken utskrift ger följande program?"
   ]
  },
  {
   "cell_type": "code",
   "execution_count": 5,
   "metadata": {
    "collapsed": false
   },
   "outputs": [
    {
     "name": "stdout",
     "output_type": "stream",
     "text": [
      "d d d\n"
     ]
    }
   ],
   "source": [
    "s=\"abcd\"\n",
    "while len(s)>1:\n",
    "    print s[-1],\n",
    "    s = s[1:]"
   ]
  },
  {
   "cell_type": "raw",
   "metadata": {},
   "source": [
    "Svar: `\"d d d\"`. Eftersom den printar sista bokstaven och sedan kortar ned `s` med en bokstav från början av `s`. `len(s) = 4` och eftersom det skall vara *större än* 1 kommer det vara sant 4 - 1 gång alltså 3 gånger. Vilket ger `\"d d d\"`."
   ]
  },
  {
   "cell_type": "markdown",
   "metadata": {},
   "source": [
    "#### d: Vad händer när följande kod exekveras?"
   ]
  },
  {
   "cell_type": "code",
   "execution_count": null,
   "metadata": {
    "collapsed": true
   },
   "outputs": [],
   "source": [
    "h=\"T\"+\"enhörning\"[0:2]+chr(1+ord(\"t\")-1)+\"a\""
   ]
  },
  {
   "cell_type": "markdown",
   "metadata": {},
   "source": [
    "Svar: `h` ges värdet `\"Tenta\"`. Eftersom `\"T\" + \"en\" + \"t\" + \"a\" = \"Tenta\".`"
   ]
  },
  {
   "cell_type": "markdown",
   "metadata": {},
   "source": [
    "#### e: Vad händer när följande kod exekveras?"
   ]
  },
  {
   "cell_type": "code",
   "execution_count": null,
   "metadata": {
    "collapsed": true
   },
   "outputs": [],
   "source": [
    "k=\"D\"+str(int(0))+int(0)+\"0\"+chr(ord(\"9\"))+\"E\""
   ]
  },
  {
   "cell_type": "markdown",
   "metadata": {},
   "source": [
    "Svar: Det kommer ge error då strängar och heltalsiffror inte kan konkateneras."
   ]
  },
  {
   "cell_type": "markdown",
   "metadata": {},
   "source": [
    "#### Uppgift 2: (5p)"
   ]
  },
  {
   "cell_type": "markdown",
   "metadata": {},
   "source": [
    "Någon har skrivit en funktion, `compare(x1, y1, x2, y2)`, som är tänkt att ta reda på om punkten `(x1, y1)` är större än `(x2, y2)`, eller tvärt om, eller om punkterna inte går att ordna. Vi säger att en punkt `(x1, y1)` är större än en punkt `(x2, y2)` om `x1>x2` och `y1>y2`. Funktionen ska returnera 1 om `(x1, y1)` är större än `(x2, y2)` och -1 om `(x2, y2)` är större än `(x1, y1)`. Om paren inte går att ordna ska den returnera 0. "
   ]
  },
  {
   "cell_type": "code",
   "execution_count": null,
   "metadata": {
    "collapsed": true
   },
   "outputs": [],
   "source": [
    "def compare(x1, y1, x2, y2):\n",
    "    if (x1>x2):\n",
    "        return 1\n",
    "    if (y2>y1):\n",
    "        return -1\n",
    "    return 0"
   ]
  },
  {
   "cell_type": "markdown",
   "metadata": {
    "collapsed": true
   },
   "source": [
    "#### a: I vilket/vilka fall gör programmet fel?"
   ]
  },
  {
   "cell_type": "markdown",
   "metadata": {},
   "source": [
    "Svar: Den returnerar 1 när `x1>x2` innan den kollar ifall `y1>y2` och samma resonemang för den andra if-satsen."
   ]
  },
  {
   "cell_type": "markdown",
   "metadata": {},
   "source": [
    "#### b: Skriv en rättad version av programmet"
   ]
  },
  {
   "cell_type": "code",
   "execution_count": null,
   "metadata": {
    "collapsed": true
   },
   "outputs": [],
   "source": [
    "def compare(x1, y1, x2, y2):\n",
    "    if x1>x2 and y1>y2:\n",
    "        return 1\n",
    "    elif x2>x1 and y2>y1:\n",
    "        return -1\n",
    "    else:\n",
    "        return 0"
   ]
  },
  {
   "cell_type": "markdown",
   "metadata": {},
   "source": [
    "#### Uppgift 3: (5p)"
   ]
  },
  {
   "cell_type": "markdown",
   "metadata": {},
   "source": [
    "#### Vad blir utskriften av följande program?"
   ]
  },
  {
   "cell_type": "code",
   "execution_count": 1,
   "metadata": {
    "collapsed": false
   },
   "outputs": [
    {
     "name": "stdout",
     "output_type": "stream",
     "text": [
      "['b', 'c', 'd']\n"
     ]
    }
   ],
   "source": [
    "def dequeue(queueList):\n",
    "    return queueList[1:]\n",
    "\n",
    "def enqueue(queueList, element):\n",
    "    queueList=queueList+[element]\n",
    "    \n",
    "q=['a','b','c','d']\n",
    "q2=dequeue(q)\n",
    "enqueue(q, 'e')\n",
    "print q2"
   ]
  },
  {
   "cell_type": "markdown",
   "metadata": {},
   "source": [
    "Svar: `['b', 'c', 'd',]` eftersom dequeue returnerar värdet av `q` utan nollte elementet till `q2`."
   ]
  },
  {
   "cell_type": "markdown",
   "metadata": {},
   "source": [
    "#### Uppgift 4: (5p)"
   ]
  },
  {
   "cell_type": "markdown",
   "metadata": {},
   "source": [
    "Skriv en funktion, `findWord`, som tar en sträng och ett index `n`. Funktionen ska returnera det `n`:te ordet, där det första ordet är nummer 1. Om strängen innehåller färre än `n` ord ska funktionen kasta ett undantag av typen `ValueError`. Inbyggda funktioner eller moduler som utför samma eller liknande uppgifter får inte användas i denna uppgift. Dock är det tillåtet att använda funktionen `len`."
   ]
  },
  {
   "cell_type": "code",
   "execution_count": null,
   "metadata": {
    "collapsed": true
   },
   "outputs": [],
   "source": [
    "#Körexempel\n",
    "\n",
    ">>> findWord('ett exempel till', 2)\n",
    "'exempel'\n",
    "\n",
    ">>> findWord('ett exempel till', 5)\n",
    "...\n",
    "ValueError"
   ]
  },
  {
   "cell_type": "markdown",
   "metadata": {},
   "source": [
    "#### Lösning"
   ]
  },
  {
   "cell_type": "code",
   "execution_count": 2,
   "metadata": {
    "collapsed": true
   },
   "outputs": [],
   "source": [
    "def findWord(s, n):\n",
    "    words = s.split(' ')\n",
    "    try:\n",
    "        return words[n-1]\n",
    "    except:\n",
    "        raise ValueError"
   ]
  },
  {
   "cell_type": "markdown",
   "metadata": {},
   "source": [
    "#### Uppgift 5: (5p)"
   ]
  },
  {
   "cell_type": "code",
   "execution_count": null,
   "metadata": {
    "collapsed": true
   },
   "outputs": [],
   "source": [
    "f=open(fil,\"w\")\n",
    "for i in range(1,n+1):\n",
    "    f.write(str(n)+\":\\n\")\n",
    "    f.write(name[i]+\"\\n\")\n",
    "f.close()\n",
    "print n"
   ]
  },
  {
   "cell_type": "markdown",
   "metadata": {},
   "source": [
    "Identifiera lämpliga parametrar och lämpligt returvärde samt kapsla in koden som en egen funktion. Modifiera koden så att det som skrivs ut på skärmen från funktionen istället returneras från funktionen"
   ]
  },
  {
   "cell_type": "code",
   "execution_count": null,
   "metadata": {
    "collapsed": true
   },
   "outputs": [],
   "source": [
    "def writeToFile(fil, name, n):\n",
    "    f = open(fil, 'w')\n",
    "    for i in range(1, n+1):\n",
    "        f.write(str(n) + \":\\n\")\n",
    "        f.write(name[i] + \"\\n\")\n",
    "    f.close()\n",
    "    return n"
   ]
  },
  {
   "cell_type": "markdown",
   "metadata": {},
   "source": [
    "#### Uppgift 6: (5p)"
   ]
  },
  {
   "cell_type": "markdown",
   "metadata": {},
   "source": [
    "Vi vill implementera en klass, `Barometer`, för att representera en barometer. En barometer håller reda på aktuellt lufttryck samt det största och minsta lufttryck som förekommit sedan barometern skapades. Klassen ska ha en metod, `setPressure`, som sätter aktuellt lufttryck (aktuellt tryck ska vara paramteter till metoden). Klassen ska dessutom ha en metod `getMaxMin` som returnerar maximalt och minimalt tryck som varit sedan barometern skapades. Dessa båda värden ska returneras som ett par. Klassen ska också ha en initierare som kräver att man anger aktuellt lufttryck när objekt av klassen skapas.\n",
    "\n",
    "Implementera klassen `Barometer` enligt ovan."
   ]
  },
  {
   "cell_type": "markdown",
   "metadata": {},
   "source": [
    "#### Lösning"
   ]
  },
  {
   "cell_type": "code",
   "execution_count": null,
   "metadata": {
    "collapsed": true
   },
   "outputs": [],
   "source": [
    "class Barometer:\n",
    "    def __init__(self, P):\n",
    "        self.P = P\n",
    "        self.max = P\n",
    "        self.min = P\n",
    "        \n",
    "    def setPressure(self, P):\n",
    "        self.max = max(P, self.max)\n",
    "        self.min = min(P, self.min)\n",
    "        self.P = P\n",
    "        \n",
    "    def getMaxMin(self):\n",
    "        return \"Max: %s, Min: %s\" % (self.max, self.min)"
   ]
  },
  {
   "cell_type": "markdown",
   "metadata": {},
   "source": [
    "#### Uppgift 7: (5p)"
   ]
  },
  {
   "cell_type": "markdown",
   "metadata": {},
   "source": [
    "Skriv **en** *rekursiv* funktion `factPrint`, som tar ett och endast ett tal, `n`, som argument och beräknar fakultetsfunktionen samt returnerar resultatet. Samtidigt, från samma funktion, ska en tabell skrivas ut med alla resultat av fakultetsfunktionen från 1 t.o.m. `n`. Observera att det endast är tillåtet att deklarera en enda funktion för uppgiften."
   ]
  },
  {
   "cell_type": "code",
   "execution_count": null,
   "metadata": {
    "collapsed": true
   },
   "outputs": [],
   "source": [
    "#Körexempel\n",
    "\n",
    ">>> factPrint(6)\n",
    "1! = 1\n",
    "2! = 2\n",
    "3! = 6\n",
    "4! = 24\n",
    "5! = 120\n",
    "6! = 720\n",
    "720 "
   ]
  },
  {
   "cell_type": "markdown",
   "metadata": {},
   "source": [
    "#### Lösning"
   ]
  },
  {
   "cell_type": "code",
   "execution_count": null,
   "metadata": {
    "collapsed": true
   },
   "outputs": [],
   "source": [
    "def factPrint(n):\n",
    "    if n == 1:\n",
    "        print \"1! = 1\"\n",
    "        return 1\n",
    "    else:\n",
    "        prod = n * factPrint(n-1)\n",
    "        print \"%s! = %s\" % (n, prod)\n",
    "        return prod"
   ]
  }
 ],
 "metadata": {
  "kernelspec": {
   "display_name": "Python 2",
   "language": "python",
   "name": "python2"
  },
  "language_info": {
   "codemirror_mode": {
    "name": "ipython",
    "version": 2
   },
   "file_extension": ".py",
   "mimetype": "text/x-python",
   "name": "python",
   "nbconvert_exporter": "python",
   "pygments_lexer": "ipython2",
   "version": "2.7.10"
  }
 },
 "nbformat": 4,
 "nbformat_minor": 0
}
