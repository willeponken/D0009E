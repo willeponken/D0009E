{
 "cells": [
  {
   "cell_type": "markdown",
   "metadata": {},
   "source": [
    "#### Uppgift 1: (8p)\n",
    "\n",
    "####a: Kommer följande program att terminera?"
   ]
  },
  {
   "cell_type": "code",
   "execution_count": null,
   "metadata": {
    "collapsed": false
   },
   "outputs": [],
   "source": [
    "i = 10\n",
    "for c in range(97, 110):\n",
    "    i = i - 1\n",
    "    print chr(c),\n",
    "    while i < 5:\n",
    "        i = i + 1"
   ]
  },
  {
   "cell_type": "markdown",
   "metadata": {},
   "source": [
    "Svar: Ja, den kommer att terminera eftersom den översta loopen itererar över ett fast antal steg."
   ]
  },
  {
   "cell_type": "markdown",
   "metadata": {},
   "source": [
    "##### b: Vilken utskrift ger följande program:"
   ]
  },
  {
   "cell_type": "code",
   "execution_count": null,
   "metadata": {
    "collapsed": false
   },
   "outputs": [],
   "source": [
    "b = 4\n",
    "c = 5\n",
    "a = False\n",
    "\n",
    "if b/c == 0 and a: \n",
    "    print \"Hej!\"\n",
    "elif a or c - b > 0:\n",
    "    print \"Hopp!\"\n",
    "else:\n",
    "    print \"Slut!\""
   ]
  },
  {
   "cell_type": "markdown",
   "metadata": {},
   "source": [
    "Svar: Den skriver ut \"Hopp!\" eftersom elif-satsen är den första som är sann."
   ]
  },
  {
   "cell_type": "markdown",
   "metadata": {},
   "source": [
    "##### c: Vilken utskrift ger följande program?"
   ]
  },
  {
   "cell_type": "code",
   "execution_count": null,
   "metadata": {
    "collapsed": false
   },
   "outputs": [],
   "source": [
    "s = \"Kardanvinkelmutterskruvs\"\n",
    "s = s + \"genomföringsbussningshylsa\"\n",
    "i = 0\n",
    "j = len(s) - 1\n",
    "\n",
    "while len(s[i:j]) > 7:\n",
    "    j = j - 1\n",
    "    if i < 6:\n",
    "        i = i + 1\n",
    "    \n",
    "s = s[i:j]\n",
    "print s\n",
    "## i = 6\n",
    "## j = 13"
   ]
  },
  {
   "cell_type": "markdown",
   "metadata": {},
   "source": [
    "Svar: s[6:13], från och med 6 till (men inte inkl) 13."
   ]
  },
  {
   "cell_type": "markdown",
   "metadata": {},
   "source": [
    "##### d: Vad händer när följande kod exekveras:"
   ]
  },
  {
   "cell_type": "code",
   "execution_count": null,
   "metadata": {
    "collapsed": false
   },
   "outputs": [],
   "source": [
    "t = float(\"3\" + chr(ord('.')  + 4 / 6) + chr(range(ord('2') , ord('9'))[0]))\n",
    "print t"
   ]
  },
  {
   "cell_type": "markdown",
   "metadata": {},
   "source": [
    "Förklaring:\n",
    "ord() funktionen ingår i standardbiblioteket och, givet en input av len(i) = 1, returnerar ett heltal som representerar positionen i ASCII-tabellen för ett tecken.\n",
    "Ex: ord('a') returnerar 97\n",
    "\n",
    "chr() är motsatt funktion, där skriver man in positionen i ASCII-tabellen och får tecknet som output.\n",
    "Ex: chr(97) returnerar 'a'\n"
   ]
  },
  {
   "cell_type": "markdown",
   "metadata": {},
   "source": [
    "#### Uppgift 2:\n",
    "Någon har skrivit en funktion testDiff(a, b, c) som är tänkt att returnera True om skillnaden mellan a och b är större än c. a, b och c är positiva heltal.\n",
    "Programmeraren kom fram till följande lösning:"
   ]
  },
  {
   "cell_type": "code",
   "execution_count": null,
   "metadata": {
    "collapsed": false
   },
   "outputs": [],
   "source": [
    "def testDiff(a, b, c):\n",
    "    if a - b < c:\n",
    "        return False\n",
    "    elif b - a < c:\n",
    "        return False\n",
    "    return True\n",
    "\n"
   ]
  },
  {
   "cell_type": "markdown",
   "metadata": {},
   "source": [
    "##### a: I vilket/vilka fall gör programmet fel? (Vilka kombinationer av indata ger fel resultat)"
   ]
  },
  {
   "cell_type": "markdown",
   "metadata": {
    "collapsed": true
   },
   "source": [
    "Eftersom funktionen endast använder sig a mindre än och inte mindre än eller lika med, genereras True även om skillnaden ` a - b < c ` eller ` b - a < c ` är lika med c. Tänk dig följande scenario.\n",
    "```\n",
    "a = 2\n",
    "b = 1\n",
    "c = 1\n",
    "```\n",
    "` a - b = 1 ` och ` b - a = -1 `. Skillnaden mellan `a - b` eller `b - a` är alltså inte *större* än c, men returnerat ändå True."
   ]
  },
  {
   "cell_type": "code",
   "execution_count": 2,
   "metadata": {
    "collapsed": true
   },
   "outputs": [],
   "source": [
    "def testDiff(a, b, c):\n",
    "    if a - b <= c:\n",
    "        return False\n",
    "    elif b - a <= c:\n",
    "        return False\n",
    "    return True"
   ]
  },
  {
   "cell_type": "markdown",
   "metadata": {},
   "source": [
    "#### Uppgift 3: (5p)\n",
    "Vad blir utskriften av följande program? (metoden index på listor returnerar index för argumentet i listan (a.index(b) ger index för b i listan a))"
   ]
  },
  {
   "cell_type": "code",
   "execution_count": 1,
   "metadata": {
    "collapsed": false
   },
   "outputs": [
    {
     "name": "stdout",
     "output_type": "stream",
     "text": [
      "[3, 4, 5]\n",
      "[1, 2, 0, 3, 7, 5]\n"
     ]
    }
   ],
   "source": [
    "def cutandsave(list, item):\n",
    "    l = list[0:list.index(item)] # l == [1, 2]\n",
    "    list[0:list.index(item)] = [] # list == []\n",
    "    print list\n",
    "    return l \n",
    "\n",
    "def update(list, item, olditem):\n",
    "    list[list.index(olditem)] = item\n",
    "\n",
    "    \n",
    "list = [1, 2, 3, 4, 5]\n",
    "list2 = cutandsave(list, 3)\n",
    "update(list, 7, 4)\n",
    "print list2 + [0] + list"
   ]
  },
  {
   "cell_type": "markdown",
   "metadata": {},
   "source": [
    "#### Uppgift 4: (5p)"
   ]
  },
  {
   "cell_type": "markdown",
   "metadata": {},
   "source": [
    "Skriv en funktion `replaceIfMany(s, substr)` som tar en sträng `s` och en substräng `substr` som parametrar. Funktionen ska byta ut alla förekomster av strängen substr mot ett blanksteg ifall strängen `substr` förekommer fler än en gång i `s`. Den resulterande strängen skall returneras."
   ]
  },
  {
   "cell_type": "code",
   "execution_count": 9,
   "metadata": {
    "collapsed": false
   },
   "outputs": [],
   "source": [
    "#Körexempel\n",
    "\n",
    ">>> replaceIfMany2(\"Mississippi\", \"s\")\n",
    "'Mi  i  ippi'\n",
    "\n",
    ">>> replaceIfMany2(\"Mississippi\", \"M\")\n",
    "'Mississippi'\n"
   ]
  },
  {
   "cell_type": "code",
   "execution_count": 16,
   "metadata": {
    "collapsed": false
   },
   "outputs": [
    {
     "name": "stdout",
     "output_type": "stream",
     "text": [
      "Mi  i  ippi\n"
     ]
    }
   ],
   "source": [
    "def replaceIfMany2(s, substr):\n",
    "    count = 0\n",
    "    for char in s:\n",
    "        if substr == char:\n",
    "            count += 1\n",
    "    if count>1:\n",
    "        newstr = ''\n",
    "        for char in s:\n",
    "            if char == substr:\n",
    "                newstr += ' '\n",
    "            else:\n",
    "                newstr += char\n",
    "    print newstr"
   ]
  },
  {
   "cell_type": "markdown",
   "metadata": {
    "collapsed": true
   },
   "source": [
    "#### Uppgift 5: (5p)\n",
    "Identifiera lämpliga parametrar och kapsla in koden som en egen funktion vid namn `writeLog`. Modifiera och lägg till kod så att funktionen skriver ut ett felmeddelande med texten `\"File already exists.\"` om filen som ska skrivas redan existerar, samt att filen inte skrivs. Undantagshanteringssystemet ska användas för detta."
   ]
  },
  {
   "cell_type": "code",
   "execution_count": null,
   "metadata": {
    "collapsed": true
   },
   "outputs": [],
   "source": [
    "f = open('logfile.txt', 'w')\n",
    "f.write(f, s + '\\n')\n",
    "f.close()"
   ]
  },
  {
   "cell_type": "markdown",
   "metadata": {},
   "source": [
    "####Lösning"
   ]
  },
  {
   "cell_type": "code",
   "execution_count": 5,
   "metadata": {
    "collapsed": true
   },
   "outputs": [],
   "source": [
    "def writeLog(s):\n",
    "    try:\n",
    "        f = open('logfile.txt', 'r')\n",
    "        print \"File already exists.\"\n",
    "        \n",
    "    except IOError:\n",
    "        f = open('logfile.txt', 'w')\n",
    "        f.write(f, s + '\\n')\n",
    "        f.close()\n",
    "    "
   ]
  },
  {
   "cell_type": "markdown",
   "metadata": {},
   "source": [
    "#### Upggift 6: (5p)"
   ]
  },
  {
   "cell_type": "markdown",
   "metadata": {},
   "source": [
    "Vi vill göra en klass `WheelLoader` som implementerar en hjullastare i arbete. Aktuell last samt hastighet skall kunna anges vid instansiering av objektet. Vidare ska tre metoder, `updateLoad(l)` samt `updateSpeed(s)` implementeras för att uppdatera respektive värde samt `getAlarm()` som skall returnera `True` om lasten *vid något tillfälle* överskridit 8000kg samtidigt som hastigheten överskridit 50km/h och i annat fall skall `False` returneras.\n",
    "\n",
    "Implementera klassen `WheelLoader` enligt ovan."
   ]
  },
  {
   "cell_type": "code",
   "execution_count": null,
   "metadata": {
    "collapsed": true
   },
   "outputs": [],
   "source": [
    "class WheelLoader:\n",
    "    def __init__(self, l, s):\n",
    "        self.s = s\n",
    "        self.l = l\n",
    "        self.max = {}\n",
    "    \n",
    "    def updateLoad(self, l):\n",
    "        self.l = l\n",
    "        self.max[l] = self.s\n",
    "    \n",
    "    def updateSpeed(self, s):\n",
    "        self.s = s\n",
    "        self.max[self.l] = self.s\n",
    "    \n",
    "    def getAlarm(self):\n",
    "        for l in self.max:\n",
    "            if l > 8000 and self.max[l] > 50:\n",
    "                return True\n",
    "            return False\n"
   ]
  },
  {
   "cell_type": "markdown",
   "metadata": {},
   "source": [
    "#### Uppgift 7: (5p)"
   ]
  },
  {
   "cell_type": "markdown",
   "metadata": {},
   "source": [
    "Skriv **en** *rekursiv* funktion, `udda`, som tar en heltalslista som argument och returnerar en lista av alla udda tal från argumentlistan. Exempel:"
   ]
  },
  {
   "cell_type": "code",
   "execution_count": null,
   "metadata": {
    "collapsed": true
   },
   "outputs": [],
   "source": [
    "#Körexempel\n",
    "\n",
    ">>> udda([1,2,3,4,5,6,7,8,9])\n",
    "[1,3,5,7,9]\n",
    "\n",
    ">>> udda([34, 45, 73, 90, 21])\n",
    "[45, 73, 21]"
   ]
  },
  {
   "cell_type": "code",
   "execution_count": null,
   "metadata": {
    "collapsed": true
   },
   "outputs": [],
   "source": [
    "def udda(lista):\n",
    "    if not lista:\n",
    "        return []\n",
    "    elif lista[0] % 2 == 0:\n",
    "        return udda(lista[1:])\n",
    "    else:\n",
    "        return [lista[0]] + udda(lista[1:])"
   ]
  }
 ],
 "metadata": {
  "kernelspec": {
   "display_name": "Python 2",
   "language": "python",
   "name": "python2"
  },
  "language_info": {
   "codemirror_mode": {
    "name": "ipython",
    "version": 2
   },
   "file_extension": ".py",
   "mimetype": "text/x-python",
   "name": "python",
   "nbconvert_exporter": "python",
   "pygments_lexer": "ipython2",
   "version": "2.7.10"
  }
 },
 "nbformat": 4,
 "nbformat_minor": 0
}
