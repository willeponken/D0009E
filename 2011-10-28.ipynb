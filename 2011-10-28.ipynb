{
 "cells": [
  {
   "cell_type": "markdown",
   "metadata": {},
   "source": [
    "####Uppgift 1: (10p)\n",
    "**a: Kommer följande program att terminera (avsluta)?**"
   ]
  },
  {
   "cell_type": "code",
   "execution_count": 11,
   "metadata": {
    "collapsed": false
   },
   "outputs": [
    {
     "name": "stdout",
     "output_type": "stream",
     "text": [
      "ett varv till\n",
      "ett varv till\n",
      "ett varv till\n"
     ]
    }
   ],
   "source": [
    "j = 0\n",
    "k = 3\n",
    "i = 0\n",
    "\n",
    "# print len(range(j, k))\n",
    "while i < len(range(j, k)):\n",
    "    k = k + 1\n",
    "    # print 'k = ' + str(k)\n",
    "    if (j < k):\n",
    "        i = i + 2\n",
    "        # print 'i = ' + str(i)\n",
    "    print \"ett varv till\""
   ]
  },
  {
   "cell_type": "markdown",
   "metadata": {},
   "source": [
    "Svar: Ja, den terminerar. While loopen har ett fast avslutningsvillkor, `i < 3`."
   ]
  },
  {
   "cell_type": "markdown",
   "metadata": {},
   "source": [
    "**b: Vilken utskrift ger följande prorgam:**"
   ]
  },
  {
   "cell_type": "code",
   "execution_count": 13,
   "metadata": {
    "collapsed": false
   },
   "outputs": [
    {
     "name": "stdout",
     "output_type": "stream",
     "text": [
      "Jitter boundary\n"
     ]
    }
   ],
   "source": [
    "delay = 5\n",
    "jitter = 3\n",
    "compensation = True\n",
    "\n",
    "if delay - jitter < 2 and compensation:\n",
    "    print \"Synchronization failure\"\n",
    "\n",
    "elif compensation and jitter < delay:\n",
    "    compensation = not compensation\n",
    "\n",
    "if delay > jitter and not compensation:\n",
    "    print \"Jitter boundary\"\n",
    "else:\n",
    "    print \"Compensation performed\""
   ]
  },
  {
   "cell_type": "markdown",
   "metadata": {},
   "source": [
    "**c: Vilken utskrift ger följande program:**"
   ]
  },
  {
   "cell_type": "code",
   "execution_count": 50,
   "metadata": {
    "collapsed": false
   },
   "outputs": [
    {
     "name": "stdout",
     "output_type": "stream",
     "text": [
      "ABCDE\n"
     ]
    }
   ],
   "source": [
    "s = \"A\"\n",
    "while len(s) < 5:\n",
    "    s = s + chr(ord(s[-1]) + 1)\n",
    "print s"
   ]
  },
  {
   "cell_type": "markdown",
   "metadata": {},
   "source": [
    "Förklaring: `chr(i)` returnerar ett ASCII tecken utifrån vilken heltalsposition i ASCII tabellen som anges [0...255].\n",
    "`ord('s')` är den omvända funktionen, som tar en sträng och returnerar heltalspositionen."
   ]
  },
  {
   "cell_type": "markdown",
   "metadata": {},
   "source": []
  }
 ],
 "metadata": {
  "kernelspec": {
   "display_name": "Python 2",
   "language": "python",
   "name": "python2"
  },
  "language_info": {
   "codemirror_mode": {
    "name": "ipython",
    "version": 2
   },
   "file_extension": ".py",
   "mimetype": "text/x-python",
   "name": "python",
   "nbconvert_exporter": "python",
   "pygments_lexer": "ipython2",
   "version": "2.7.10"
  }
 },
 "nbformat": 4,
 "nbformat_minor": 0
}
