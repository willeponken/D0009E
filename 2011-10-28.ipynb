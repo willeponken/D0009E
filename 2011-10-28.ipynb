{
 "cells": [
  {
   "cell_type": "markdown",
   "metadata": {},
   "source": [
    "#### Uppgift 1: (10p)\n",
    "\n",
    "**a: Kommer följande program att terminera (avsluta)?**"
   ]
  },
  {
   "cell_type": "code",
   "execution_count": 11,
   "metadata": {
    "collapsed": false
   },
   "outputs": [
    {
     "name": "stdout",
     "output_type": "stream",
     "text": [
      "ett varv till\n",
      "ett varv till\n",
      "ett varv till\n"
     ]
    }
   ],
   "source": [
    "j = 0\n",
    "k = 3\n",
    "i = 0\n",
    "\n",
    "# print len(range(j, k))\n",
    "while i < len(range(j, k)):\n",
    "    k = k + 1\n",
    "    # print 'k = ' + str(k)\n",
    "    if (j < k):\n",
    "        i = i + 2\n",
    "        # print 'i = ' + str(i)\n",
    "    print \"ett varv till\""
   ]
  },
  {
   "cell_type": "markdown",
   "metadata": {},
   "source": [
    "Svar: Ja, den terminerar. While loopen har ett fast avslutningsvillkor, `i < 3`."
   ]
  },
  {
   "cell_type": "markdown",
   "metadata": {},
   "source": [
    "**b: Vilken utskrift ger följande prorgam:**"
   ]
  },
  {
   "cell_type": "code",
   "execution_count": 13,
   "metadata": {
    "collapsed": false
   },
   "outputs": [
    {
     "name": "stdout",
     "output_type": "stream",
     "text": [
      "Jitter boundary\n"
     ]
    }
   ],
   "source": [
    "delay = 5\n",
    "jitter = 3\n",
    "compensation = True\n",
    "\n",
    "if delay - jitter < 2 and compensation:\n",
    "    print \"Synchronization failure\"\n",
    "\n",
    "elif compensation and jitter < delay:\n",
    "    compensation = not compensation\n",
    "\n",
    "if delay > jitter and not compensation:\n",
    "    print \"Jitter boundary\"\n",
    "else:\n",
    "    print \"Compensation performed\""
   ]
  },
  {
   "cell_type": "markdown",
   "metadata": {},
   "source": [
    "**c: Vilken utskrift ger följande program:**"
   ]
  },
  {
   "cell_type": "code",
   "execution_count": 50,
   "metadata": {
    "collapsed": false
   },
   "outputs": [
    {
     "name": "stdout",
     "output_type": "stream",
     "text": [
      "ABCDE\n"
     ]
    }
   ],
   "source": [
    "s = \"A\"\n",
    "while len(s) < 5:\n",
    "    s = s + chr(ord(s[-1]) + 1)\n",
    "print s"
   ]
  },
  {
   "cell_type": "markdown",
   "metadata": {},
   "source": [
    "Förklaring: `chr(i)` returnerar ett ASCII tecken utifrån vilken heltalsposition i ASCII tabellen som anges [0...255].\n",
    "`ord('s')` är den omvända funktionen, som tar en sträng och returnerar heltalspositionen."
   ]
  },
  {
   "cell_type": "markdown",
   "metadata": {},
   "source": [
    "**d: Vad händer när följande kod exekveras:**"
   ]
  },
  {
   "cell_type": "code",
   "execution_count": 56,
   "metadata": {
    "collapsed": false
   },
   "outputs": [],
   "source": [
    "value = range(1, 5, 2) [-2] + 3 + int(\"2\" + str(0))"
   ]
  },
  {
   "cell_type": "markdown",
   "metadata": {},
   "source": [
    "Förklaring: `value` värdet av `range[-2]` som är 1, + 3 + 20 = 24"
   ]
  },
  {
   "cell_type": "markdown",
   "metadata": {},
   "source": [
    "####Uppgift 2: (5p)\n",
    "\n",
    "**Någon har skrivit en funktion `twoOfThree(a, b, c)` som är tänkt att returnera `True` endast om exakt två av argumenten är sanna. Programmeraren kom fram till följande lösning:**"
   ]
  },
  {
   "cell_type": "code",
   "execution_count": 57,
   "metadata": {
    "collapsed": true
   },
   "outputs": [],
   "source": [
    "def twoOfThree(a, b, c):\n",
    "    if a and b:\n",
    "        return not c\n",
    "    elif a and c:\n",
    "        return not b\n",
    "    else:\n",
    "        return not a"
   ]
  },
  {
   "cell_type": "markdown",
   "metadata": {},
   "source": [
    "Programmeraren har dock gjort lite fel. Skriv en korrigerad version av programmet som utför uppgiften korrekt."
   ]
  },
  {
   "cell_type": "code",
   "execution_count": 64,
   "metadata": {
    "collapsed": false
   },
   "outputs": [],
   "source": [
    "def twoOfThree(a, b, c):\n",
    "    if a and b:\n",
    "        return not c\n",
    "    elif a and c:\n",
    "        return not b\n",
    "    elif b and c:\n",
    "        return not a\n",
    "    else:\n",
    "        return 'False'\n",
    "\n",
    "#     Tests\n",
    "# print twoOfThree(False, True, True)\n",
    "# print twoOfThree(True, False, True)\n",
    "# print twoOfThree(True, True, False)\n",
    "# print twoOfThree(True, False, False)\n",
    "# print twoOfThree(False, False, True)"
   ]
  },
  {
   "cell_type": "markdown",
   "metadata": {},
   "source": [
    "Förklaring: Den första versionen har ett case returnerar ett felaktigt värde, om `c` och `b` är `True` så returneras `not a` oavsett dess värde."
   ]
  },
  {
   "cell_type": "markdown",
   "metadata": {
    "collapsed": true
   },
   "source": [
    "#### Uppgift 3: (5p)\n",
    "Vad blir utskriften av följande program? (metoden `index` på listor returnerar index för argumentet i listan (`a.index(b)` ger index för `b` i listan `a`))."
   ]
  },
  {
   "cell_type": "code",
   "execution_count": 8,
   "metadata": {
    "collapsed": false
   },
   "outputs": [
    {
     "name": "stdout",
     "output_type": "stream",
     "text": [
      "[3, 4, 5, 2]\n"
     ]
    }
   ],
   "source": [
    "def filter(l,e):\n",
    "    l = [l.index(e)]\n",
    "    return l\n",
    "\n",
    "def extract(l,k):\n",
    "    return l+k\n",
    "\n",
    "list = [3,4,5]\n",
    "k = filter(list,5)\n",
    "print extract(list,k)"
   ]
  },
  {
   "cell_type": "markdown",
   "metadata": {},
   "source": [
    "#### Uppgift 4: (5p)\n",
    "\n",
    "Skriv en funktion `rFind(s, substr)` som tar en sträng `s` och en till sträng `substr` som parametrar. Funktionen ska returnera en tupel som ska bestå dels av indexet för den sista förekomsten av substrängen `substr` i strängen s och dels det totala antalet förekomster av `substr` i strängen s. Det är tillåtet att anta att strängen `substr` endast innehåller ett tecken.\n",
    "\n",
    "**Körexempel:**\n",
    "````\n",
    ">>> rFind(\"Missisippi\", \"s\")\n",
    "(6, 4)\n",
    "````\n",
    "\n",
    "Inbyggda funktioner som utför liknande uppgifter får ej användas. Det är tillåtet att anvädna `len()` och `range()` samt `for` eller `while` för iteration."
   ]
  },
  {
   "cell_type": "code",
   "execution_count": 52,
   "metadata": {
    "collapsed": false
   },
   "outputs": [
    {
     "name": "stdout",
     "output_type": "stream",
     "text": [
      "Mississ\n"
     ]
    },
    {
     "data": {
      "text/plain": [
       "(6, 4)"
      ]
     },
     "execution_count": 52,
     "metadata": {},
     "output_type": "execute_result"
    }
   ],
   "source": [
    "# Lösningsförslag\n",
    "\n",
    "def rFind(s, substr):\n",
    "    count = 0\n",
    "    for char in s:\n",
    "        if char == substr:\n",
    "            count = count + 1\n",
    "    \n",
    "    i = 0\n",
    "    count2 = 0\n",
    "    newstring = ''\n",
    "    while count2 < count:\n",
    "        newstring += s[i]\n",
    "        if s[i] == substr:\n",
    "            count2 += 1\n",
    "        i += 1\n",
    "    print newstring\n",
    "    last_instance = len(newstring) - 1\n",
    "    \n",
    "    return (last_instance, count)\n",
    "\n",
    "rFind(\"Mississippi\", \"s\")"
   ]
  },
  {
   "cell_type": "markdown",
   "metadata": {
    "collapsed": true
   },
   "source": [
    "#### Uppgift 5: (5p)\n",
    "\n",
    "Betrakta följande kodsnutt:\n",
    "\n",
    "```\n",
    "m = 65\n",
    "for x in range(m, m+n):\n",
    "    print chr(x),\n",
    "```\n",
    "\n",
    "Identifiera lämpliga parametrar och kapsla in koden som en egen funktion vid namn `caps`. Modifiera koden så att funktionen returnerar en sträng innehållande de tecken som nu skrivs ut på skärmen exkl. mellanslag (ta inte med mellanslaget som \"print\" lägger till i strängen som ni returnerar)."
   ]
  },
  {
   "cell_type": "code",
   "execution_count": 78,
   "metadata": {
    "collapsed": false
   },
   "outputs": [
    {
     "name": "stdout",
     "output_type": "stream",
     "text": [
      "ABCDEFGHIJKLMNOPQRSTUVWXYZ\n"
     ]
    }
   ],
   "source": [
    "def caps(m):\n",
    "    s = ''\n",
    "    for x in range(m, m+26):\n",
    "        s += chr(x)\n",
    "    \n",
    "    return s\n",
    "\n",
    "print caps(65)"
   ]
  },
  {
   "cell_type": "markdown",
   "metadata": {},
   "source": [
    "#### Uppgift 6: (5 p)\n",
    "Vi vill göra en klass `WaterLevel` som implementerar övervakning av en vattennivå. Aktuell vattennivå ska kunna anges vid instansiering (skapandet) av objektet. \n",
    "Vidare ska en metod, `updateLevel(1)` implementeras för att uppdatera den aktuella nivån samt en metod `getAlarm()` som returnerar -1 om nivån är under 0, 1 om nivån är över 100 och i annat fall 0.\n",
    "\n",
    "Implementera klassen `WaterLevel` enligt ovan."
   ]
  },
  {
   "cell_type": "code",
   "execution_count": 86,
   "metadata": {
    "collapsed": false
   },
   "outputs": [
    {
     "name": "stdout",
     "output_type": "stream",
     "text": [
      "50\n",
      "0\n"
     ]
    }
   ],
   "source": [
    "class WaterLevel():\n",
    "\n",
    "    def __init__(self, waterlevel):\n",
    "        self.waterlevel = waterlevel\n",
    "\n",
    "    def updatelevel(self, waterlevel):\n",
    "        self.waterlevel = waterlevel\n",
    "\n",
    "    def getAlarm(self):\n",
    "        if self.waterlevel < 0:\n",
    "            return -1\n",
    "        elif self.waterlevel > 100:\n",
    "            return 1\n",
    "        else:\n",
    "            return 0\n",
    "\n",
    "lulea = WaterLevel(50)\n",
    "\n",
    "print lulea.waterlevel\n",
    "print lulea.getAlarm()"
   ]
  },
  {
   "cell_type": "markdown",
   "metadata": {},
   "source": [
    "#### Uppgift 7: (5p)\n",
    "Skriv **en** rekursiv funktion, `multiplar(i, j)` som returnerar en lista av tal som är heltalsmultiplar av i. Listan ska innehålla alla heltalsmultiplar av `i` från och med `1` till och med `j`. Tips: `j` är rekursionsvariabel. \n",
    "\n",
    "**Körningsexempel**\n",
    "```\n",
    ">>> multiplar(3, 5)\n",
    "[3, 6, 9, 12, 15]\n",
    ">>> multiplar(2,6)\n",
    "[2, 4, 6, 8, 12]\n",
    "```"
   ]
  },
  {
   "cell_type": "code",
   "execution_count": 103,
   "metadata": {
    "collapsed": false
   },
   "outputs": [
    {
     "name": "stdout",
     "output_type": "stream",
     "text": [
      "[3, 6, 9, 12, 15]\n"
     ]
    }
   ],
   "source": [
    "def multiplar(i, j):\n",
    "    l = []\n",
    "    while j > 0:\n",
    "        l.append(i*j)\n",
    "        j = j - 1\n",
    "        multiplar(i, j)\n",
    "    return l[::-1] # [::-1] är slice notation som läser listan baklänges\n",
    "print multiplar(3, 5)"
   ]
  },
  {
   "cell_type": "code",
   "execution_count": null,
   "metadata": {
    "collapsed": true
   },
   "outputs": [],
   "source": []
  }
 ],
 "metadata": {
  "kernelspec": {
   "display_name": "Python 2",
   "language": "python",
   "name": "python2"
  },
  "language_info": {
   "codemirror_mode": {
    "name": "ipython",
    "version": 2
   },
   "file_extension": ".py",
   "mimetype": "text/x-python",
   "name": "python",
   "nbconvert_exporter": "python",
   "pygments_lexer": "ipython2",
   "version": "2.7.10"
  }
 },
 "nbformat": 4,
 "nbformat_minor": 0
}
